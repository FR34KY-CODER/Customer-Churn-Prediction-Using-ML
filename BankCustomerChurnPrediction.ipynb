{
  "cells": [
    {
      "cell_type": "markdown",
      "metadata": {
        "_cell_guid": "79c7e3d0-c299-4dcb-8224-4455121ee9b0",
        "_uuid": "d629ff2d2480ee46fbb7e2d37f6b5fab8052498a",
        "collapsed": true,
        "papermill": {
          "duration": 0.063197,
          "end_time": "2020-11-14T09:44:08.739722",
          "exception": false,
          "start_time": "2020-11-14T09:44:08.676525",
          "status": "completed"
        },
        "tags": [],
        "id": "PYVMiqM91bxT"
      },
      "source": [
        "## Bank Churn Prediction"
      ]
    },
    {
      "cell_type": "code",
      "execution_count": 98,
      "metadata": {
        "execution": {
          "iopub.execute_input": "2020-11-14T09:44:08.884405Z",
          "iopub.status.busy": "2020-11-14T09:44:08.883534Z",
          "iopub.status.idle": "2020-11-14T09:44:11.192457Z",
          "shell.execute_reply": "2020-11-14T09:44:11.193118Z"
        },
        "papermill": {
          "duration": 2.392147,
          "end_time": "2020-11-14T09:44:11.193364",
          "exception": false,
          "start_time": "2020-11-14T09:44:08.801217",
          "status": "completed"
        },
        "tags": [],
        "id": "nIdIdYAq1bxV"
      },
      "outputs": [],
      "source": [
        "# loading necessary libraries\n",
        "import pandas as pd\n",
        "import numpy as np\n",
        "import seaborn as sns\n",
        "import matplotlib.pyplot as plt\n",
        "from matplotlib import pyplot\n",
        "from sklearn.model_selection import cross_val_predict\n",
        "from sklearn.metrics import confusion_matrix, classification_report, f1_score, precision_score, recall_score, roc_auc_score, roc_curve\n",
        "from sklearn.linear_model import LogisticRegression\n",
        "from sklearn.neighbors import KNeighborsClassifier\n",
        "from sklearn.svm import SVC\n",
        "from sklearn.ensemble import GradientBoostingClassifier\n",
        "from sklearn.tree import DecisionTreeClassifier\n",
        "from sklearn.ensemble import RandomForestClassifier\n",
        "from lightgbm import LGBMClassifier\n",
        "from sklearn.model_selection import train_test_split\n",
        "from sklearn.preprocessing import RobustScaler\n",
        "from sklearn.metrics import accuracy_score,recall_score\n",
        "from xgboost import XGBClassifier\n",
        "from sklearn.model_selection import KFold\n",
        "from sklearn.model_selection import cross_val_score, GridSearchCV\n"
      ]
    },
    {
      "cell_type": "code",
      "execution_count": 99,
      "metadata": {
        "execution": {
          "iopub.execute_input": "2020-11-14T09:44:11.325359Z",
          "iopub.status.busy": "2020-11-14T09:44:11.324533Z",
          "iopub.status.idle": "2020-11-14T09:44:11.369421Z",
          "shell.execute_reply": "2020-11-14T09:44:11.368640Z"
        },
        "papermill": {
          "duration": 0.11461,
          "end_time": "2020-11-14T09:44:11.369546",
          "exception": false,
          "start_time": "2020-11-14T09:44:11.254936",
          "status": "completed"
        },
        "tags": [],
        "id": "71856hPI1bxW"
      },
      "outputs": [],
      "source": [
        "df = pd.read_csv(\"BankCustomerData.csv\")"
      ]
    },
    {
      "cell_type": "markdown",
      "metadata": {
        "papermill": {
          "duration": 0.060614,
          "end_time": "2020-11-14T09:44:11.491913",
          "exception": false,
          "start_time": "2020-11-14T09:44:11.431299",
          "status": "completed"
        },
        "tags": [],
        "id": "2soT-xOR1bxX"
      },
      "source": [
        "# Exploratory Data Analysis"
      ]
    },
    {
      "cell_type": "code",
      "execution_count": 100,
      "metadata": {
        "execution": {
          "iopub.execute_input": "2020-11-14T09:44:11.628797Z",
          "iopub.status.busy": "2020-11-14T09:44:11.628011Z",
          "iopub.status.idle": "2020-11-14T09:44:11.640750Z",
          "shell.execute_reply": "2020-11-14T09:44:11.641366Z"
        },
        "papermill": {
          "duration": 0.088261,
          "end_time": "2020-11-14T09:44:11.641516",
          "exception": false,
          "start_time": "2020-11-14T09:44:11.553255",
          "status": "completed"
        },
        "tags": [],
        "colab": {
          "base_uri": "https://localhost:8080/",
          "height": 226
        },
        "id": "9ecYYf081bxX",
        "outputId": "fc4b5b6d-47c1-462e-a679-697117ee53fe"
      },
      "outputs": [
        {
          "output_type": "execute_result",
          "data": {
            "text/plain": [
              "   customer_id  credit_score country  gender  age  tenure    balance  \\\n",
              "0     15634602           619  France  Female   42       2       0.00   \n",
              "1     15647311           608   Spain  Female   41       1   83807.86   \n",
              "2     15619304           502  France  Female   42       8  159660.80   \n",
              "3     15701354           699  France  Female   39       1       0.00   \n",
              "4     15737888           850   Spain  Female   43       2  125510.82   \n",
              "\n",
              "   products_number  credit_card  active_member  estimated_salary  churn  \n",
              "0                1            1              1         101348.88      1  \n",
              "1                1            0              1         112542.58      0  \n",
              "2                3            1              0         113931.57      1  \n",
              "3                2            0              0          93826.63      0  \n",
              "4                1            1              1          79084.10      0  "
            ],
            "text/html": [
              "\n",
              "  <div id=\"df-d593a12d-eae2-41ea-b7e0-1cf1d8658cc2\" class=\"colab-df-container\">\n",
              "    <div>\n",
              "<style scoped>\n",
              "    .dataframe tbody tr th:only-of-type {\n",
              "        vertical-align: middle;\n",
              "    }\n",
              "\n",
              "    .dataframe tbody tr th {\n",
              "        vertical-align: top;\n",
              "    }\n",
              "\n",
              "    .dataframe thead th {\n",
              "        text-align: right;\n",
              "    }\n",
              "</style>\n",
              "<table border=\"1\" class=\"dataframe\">\n",
              "  <thead>\n",
              "    <tr style=\"text-align: right;\">\n",
              "      <th></th>\n",
              "      <th>customer_id</th>\n",
              "      <th>credit_score</th>\n",
              "      <th>country</th>\n",
              "      <th>gender</th>\n",
              "      <th>age</th>\n",
              "      <th>tenure</th>\n",
              "      <th>balance</th>\n",
              "      <th>products_number</th>\n",
              "      <th>credit_card</th>\n",
              "      <th>active_member</th>\n",
              "      <th>estimated_salary</th>\n",
              "      <th>churn</th>\n",
              "    </tr>\n",
              "  </thead>\n",
              "  <tbody>\n",
              "    <tr>\n",
              "      <th>0</th>\n",
              "      <td>15634602</td>\n",
              "      <td>619</td>\n",
              "      <td>France</td>\n",
              "      <td>Female</td>\n",
              "      <td>42</td>\n",
              "      <td>2</td>\n",
              "      <td>0.00</td>\n",
              "      <td>1</td>\n",
              "      <td>1</td>\n",
              "      <td>1</td>\n",
              "      <td>101348.88</td>\n",
              "      <td>1</td>\n",
              "    </tr>\n",
              "    <tr>\n",
              "      <th>1</th>\n",
              "      <td>15647311</td>\n",
              "      <td>608</td>\n",
              "      <td>Spain</td>\n",
              "      <td>Female</td>\n",
              "      <td>41</td>\n",
              "      <td>1</td>\n",
              "      <td>83807.86</td>\n",
              "      <td>1</td>\n",
              "      <td>0</td>\n",
              "      <td>1</td>\n",
              "      <td>112542.58</td>\n",
              "      <td>0</td>\n",
              "    </tr>\n",
              "    <tr>\n",
              "      <th>2</th>\n",
              "      <td>15619304</td>\n",
              "      <td>502</td>\n",
              "      <td>France</td>\n",
              "      <td>Female</td>\n",
              "      <td>42</td>\n",
              "      <td>8</td>\n",
              "      <td>159660.80</td>\n",
              "      <td>3</td>\n",
              "      <td>1</td>\n",
              "      <td>0</td>\n",
              "      <td>113931.57</td>\n",
              "      <td>1</td>\n",
              "    </tr>\n",
              "    <tr>\n",
              "      <th>3</th>\n",
              "      <td>15701354</td>\n",
              "      <td>699</td>\n",
              "      <td>France</td>\n",
              "      <td>Female</td>\n",
              "      <td>39</td>\n",
              "      <td>1</td>\n",
              "      <td>0.00</td>\n",
              "      <td>2</td>\n",
              "      <td>0</td>\n",
              "      <td>0</td>\n",
              "      <td>93826.63</td>\n",
              "      <td>0</td>\n",
              "    </tr>\n",
              "    <tr>\n",
              "      <th>4</th>\n",
              "      <td>15737888</td>\n",
              "      <td>850</td>\n",
              "      <td>Spain</td>\n",
              "      <td>Female</td>\n",
              "      <td>43</td>\n",
              "      <td>2</td>\n",
              "      <td>125510.82</td>\n",
              "      <td>1</td>\n",
              "      <td>1</td>\n",
              "      <td>1</td>\n",
              "      <td>79084.10</td>\n",
              "      <td>0</td>\n",
              "    </tr>\n",
              "  </tbody>\n",
              "</table>\n",
              "</div>\n",
              "    <div class=\"colab-df-buttons\">\n",
              "\n",
              "  <div class=\"colab-df-container\">\n",
              "    <button class=\"colab-df-convert\" onclick=\"convertToInteractive('df-d593a12d-eae2-41ea-b7e0-1cf1d8658cc2')\"\n",
              "            title=\"Convert this dataframe to an interactive table.\"\n",
              "            style=\"display:none;\">\n",
              "\n",
              "  <svg xmlns=\"http://www.w3.org/2000/svg\" height=\"24px\" viewBox=\"0 -960 960 960\">\n",
              "    <path d=\"M120-120v-720h720v720H120Zm60-500h600v-160H180v160Zm220 220h160v-160H400v160Zm0 220h160v-160H400v160ZM180-400h160v-160H180v160Zm440 0h160v-160H620v160ZM180-180h160v-160H180v160Zm440 0h160v-160H620v160Z\"/>\n",
              "  </svg>\n",
              "    </button>\n",
              "\n",
              "  <style>\n",
              "    .colab-df-container {\n",
              "      display:flex;\n",
              "      gap: 12px;\n",
              "    }\n",
              "\n",
              "    .colab-df-convert {\n",
              "      background-color: #E8F0FE;\n",
              "      border: none;\n",
              "      border-radius: 50%;\n",
              "      cursor: pointer;\n",
              "      display: none;\n",
              "      fill: #1967D2;\n",
              "      height: 32px;\n",
              "      padding: 0 0 0 0;\n",
              "      width: 32px;\n",
              "    }\n",
              "\n",
              "    .colab-df-convert:hover {\n",
              "      background-color: #E2EBFA;\n",
              "      box-shadow: 0px 1px 2px rgba(60, 64, 67, 0.3), 0px 1px 3px 1px rgba(60, 64, 67, 0.15);\n",
              "      fill: #174EA6;\n",
              "    }\n",
              "\n",
              "    .colab-df-buttons div {\n",
              "      margin-bottom: 4px;\n",
              "    }\n",
              "\n",
              "    [theme=dark] .colab-df-convert {\n",
              "      background-color: #3B4455;\n",
              "      fill: #D2E3FC;\n",
              "    }\n",
              "\n",
              "    [theme=dark] .colab-df-convert:hover {\n",
              "      background-color: #434B5C;\n",
              "      box-shadow: 0px 1px 3px 1px rgba(0, 0, 0, 0.15);\n",
              "      filter: drop-shadow(0px 1px 2px rgba(0, 0, 0, 0.3));\n",
              "      fill: #FFFFFF;\n",
              "    }\n",
              "  </style>\n",
              "\n",
              "    <script>\n",
              "      const buttonEl =\n",
              "        document.querySelector('#df-d593a12d-eae2-41ea-b7e0-1cf1d8658cc2 button.colab-df-convert');\n",
              "      buttonEl.style.display =\n",
              "        google.colab.kernel.accessAllowed ? 'block' : 'none';\n",
              "\n",
              "      async function convertToInteractive(key) {\n",
              "        const element = document.querySelector('#df-d593a12d-eae2-41ea-b7e0-1cf1d8658cc2');\n",
              "        const dataTable =\n",
              "          await google.colab.kernel.invokeFunction('convertToInteractive',\n",
              "                                                    [key], {});\n",
              "        if (!dataTable) return;\n",
              "\n",
              "        const docLinkHtml = 'Like what you see? Visit the ' +\n",
              "          '<a target=\"_blank\" href=https://colab.research.google.com/notebooks/data_table.ipynb>data table notebook</a>'\n",
              "          + ' to learn more about interactive tables.';\n",
              "        element.innerHTML = '';\n",
              "        dataTable['output_type'] = 'display_data';\n",
              "        await google.colab.output.renderOutput(dataTable, element);\n",
              "        const docLink = document.createElement('div');\n",
              "        docLink.innerHTML = docLinkHtml;\n",
              "        element.appendChild(docLink);\n",
              "      }\n",
              "    </script>\n",
              "  </div>\n",
              "\n",
              "\n",
              "<div id=\"df-81eed0ca-8702-400b-ad5d-ce39a49900a8\">\n",
              "  <button class=\"colab-df-quickchart\" onclick=\"quickchart('df-81eed0ca-8702-400b-ad5d-ce39a49900a8')\"\n",
              "            title=\"Suggest charts\"\n",
              "            style=\"display:none;\">\n",
              "\n",
              "<svg xmlns=\"http://www.w3.org/2000/svg\" height=\"24px\"viewBox=\"0 0 24 24\"\n",
              "     width=\"24px\">\n",
              "    <g>\n",
              "        <path d=\"M19 3H5c-1.1 0-2 .9-2 2v14c0 1.1.9 2 2 2h14c1.1 0 2-.9 2-2V5c0-1.1-.9-2-2-2zM9 17H7v-7h2v7zm4 0h-2V7h2v10zm4 0h-2v-4h2v4z\"/>\n",
              "    </g>\n",
              "</svg>\n",
              "  </button>\n",
              "\n",
              "<style>\n",
              "  .colab-df-quickchart {\n",
              "      --bg-color: #E8F0FE;\n",
              "      --fill-color: #1967D2;\n",
              "      --hover-bg-color: #E2EBFA;\n",
              "      --hover-fill-color: #174EA6;\n",
              "      --disabled-fill-color: #AAA;\n",
              "      --disabled-bg-color: #DDD;\n",
              "  }\n",
              "\n",
              "  [theme=dark] .colab-df-quickchart {\n",
              "      --bg-color: #3B4455;\n",
              "      --fill-color: #D2E3FC;\n",
              "      --hover-bg-color: #434B5C;\n",
              "      --hover-fill-color: #FFFFFF;\n",
              "      --disabled-bg-color: #3B4455;\n",
              "      --disabled-fill-color: #666;\n",
              "  }\n",
              "\n",
              "  .colab-df-quickchart {\n",
              "    background-color: var(--bg-color);\n",
              "    border: none;\n",
              "    border-radius: 50%;\n",
              "    cursor: pointer;\n",
              "    display: none;\n",
              "    fill: var(--fill-color);\n",
              "    height: 32px;\n",
              "    padding: 0;\n",
              "    width: 32px;\n",
              "  }\n",
              "\n",
              "  .colab-df-quickchart:hover {\n",
              "    background-color: var(--hover-bg-color);\n",
              "    box-shadow: 0 1px 2px rgba(60, 64, 67, 0.3), 0 1px 3px 1px rgba(60, 64, 67, 0.15);\n",
              "    fill: var(--button-hover-fill-color);\n",
              "  }\n",
              "\n",
              "  .colab-df-quickchart-complete:disabled,\n",
              "  .colab-df-quickchart-complete:disabled:hover {\n",
              "    background-color: var(--disabled-bg-color);\n",
              "    fill: var(--disabled-fill-color);\n",
              "    box-shadow: none;\n",
              "  }\n",
              "\n",
              "  .colab-df-spinner {\n",
              "    border: 2px solid var(--fill-color);\n",
              "    border-color: transparent;\n",
              "    border-bottom-color: var(--fill-color);\n",
              "    animation:\n",
              "      spin 1s steps(1) infinite;\n",
              "  }\n",
              "\n",
              "  @keyframes spin {\n",
              "    0% {\n",
              "      border-color: transparent;\n",
              "      border-bottom-color: var(--fill-color);\n",
              "      border-left-color: var(--fill-color);\n",
              "    }\n",
              "    20% {\n",
              "      border-color: transparent;\n",
              "      border-left-color: var(--fill-color);\n",
              "      border-top-color: var(--fill-color);\n",
              "    }\n",
              "    30% {\n",
              "      border-color: transparent;\n",
              "      border-left-color: var(--fill-color);\n",
              "      border-top-color: var(--fill-color);\n",
              "      border-right-color: var(--fill-color);\n",
              "    }\n",
              "    40% {\n",
              "      border-color: transparent;\n",
              "      border-right-color: var(--fill-color);\n",
              "      border-top-color: var(--fill-color);\n",
              "    }\n",
              "    60% {\n",
              "      border-color: transparent;\n",
              "      border-right-color: var(--fill-color);\n",
              "    }\n",
              "    80% {\n",
              "      border-color: transparent;\n",
              "      border-right-color: var(--fill-color);\n",
              "      border-bottom-color: var(--fill-color);\n",
              "    }\n",
              "    90% {\n",
              "      border-color: transparent;\n",
              "      border-bottom-color: var(--fill-color);\n",
              "    }\n",
              "  }\n",
              "</style>\n",
              "\n",
              "  <script>\n",
              "    async function quickchart(key) {\n",
              "      const quickchartButtonEl =\n",
              "        document.querySelector('#' + key + ' button');\n",
              "      quickchartButtonEl.disabled = true;  // To prevent multiple clicks.\n",
              "      quickchartButtonEl.classList.add('colab-df-spinner');\n",
              "      try {\n",
              "        const charts = await google.colab.kernel.invokeFunction(\n",
              "            'suggestCharts', [key], {});\n",
              "      } catch (error) {\n",
              "        console.error('Error during call to suggestCharts:', error);\n",
              "      }\n",
              "      quickchartButtonEl.classList.remove('colab-df-spinner');\n",
              "      quickchartButtonEl.classList.add('colab-df-quickchart-complete');\n",
              "    }\n",
              "    (() => {\n",
              "      let quickchartButtonEl =\n",
              "        document.querySelector('#df-81eed0ca-8702-400b-ad5d-ce39a49900a8 button');\n",
              "      quickchartButtonEl.style.display =\n",
              "        google.colab.kernel.accessAllowed ? 'block' : 'none';\n",
              "    })();\n",
              "  </script>\n",
              "</div>\n",
              "\n",
              "    </div>\n",
              "  </div>\n"
            ],
            "application/vnd.google.colaboratory.intrinsic+json": {
              "type": "dataframe",
              "variable_name": "df",
              "summary": "{\n  \"name\": \"df\",\n  \"rows\": 10000,\n  \"fields\": [\n    {\n      \"column\": \"customer_id\",\n      \"properties\": {\n        \"dtype\": \"number\",\n        \"std\": 71936,\n        \"min\": 15565701,\n        \"max\": 15815690,\n        \"num_unique_values\": 10000,\n        \"samples\": [\n          15687492,\n          15736963,\n          15721730\n        ],\n        \"semantic_type\": \"\",\n        \"description\": \"\"\n      }\n    },\n    {\n      \"column\": \"credit_score\",\n      \"properties\": {\n        \"dtype\": \"number\",\n        \"std\": 96,\n        \"min\": 350,\n        \"max\": 850,\n        \"num_unique_values\": 460,\n        \"samples\": [\n          754,\n          533,\n          744\n        ],\n        \"semantic_type\": \"\",\n        \"description\": \"\"\n      }\n    },\n    {\n      \"column\": \"country\",\n      \"properties\": {\n        \"dtype\": \"category\",\n        \"num_unique_values\": 3,\n        \"samples\": [\n          \"France\",\n          \"Spain\",\n          \"Germany\"\n        ],\n        \"semantic_type\": \"\",\n        \"description\": \"\"\n      }\n    },\n    {\n      \"column\": \"gender\",\n      \"properties\": {\n        \"dtype\": \"category\",\n        \"num_unique_values\": 2,\n        \"samples\": [\n          \"Male\",\n          \"Female\"\n        ],\n        \"semantic_type\": \"\",\n        \"description\": \"\"\n      }\n    },\n    {\n      \"column\": \"age\",\n      \"properties\": {\n        \"dtype\": \"number\",\n        \"std\": 10,\n        \"min\": 18,\n        \"max\": 92,\n        \"num_unique_values\": 70,\n        \"samples\": [\n          61,\n          42\n        ],\n        \"semantic_type\": \"\",\n        \"description\": \"\"\n      }\n    },\n    {\n      \"column\": \"tenure\",\n      \"properties\": {\n        \"dtype\": \"number\",\n        \"std\": 2,\n        \"min\": 0,\n        \"max\": 10,\n        \"num_unique_values\": 11,\n        \"samples\": [\n          6,\n          2\n        ],\n        \"semantic_type\": \"\",\n        \"description\": \"\"\n      }\n    },\n    {\n      \"column\": \"balance\",\n      \"properties\": {\n        \"dtype\": \"number\",\n        \"std\": 62397.40520238623,\n        \"min\": 0.0,\n        \"max\": 250898.09,\n        \"num_unique_values\": 6382,\n        \"samples\": [\n          117707.18,\n          133050.97\n        ],\n        \"semantic_type\": \"\",\n        \"description\": \"\"\n      }\n    },\n    {\n      \"column\": \"products_number\",\n      \"properties\": {\n        \"dtype\": \"number\",\n        \"std\": 0,\n        \"min\": 1,\n        \"max\": 4,\n        \"num_unique_values\": 4,\n        \"samples\": [\n          3,\n          4\n        ],\n        \"semantic_type\": \"\",\n        \"description\": \"\"\n      }\n    },\n    {\n      \"column\": \"credit_card\",\n      \"properties\": {\n        \"dtype\": \"number\",\n        \"std\": 0,\n        \"min\": 0,\n        \"max\": 1,\n        \"num_unique_values\": 2,\n        \"samples\": [\n          0,\n          1\n        ],\n        \"semantic_type\": \"\",\n        \"description\": \"\"\n      }\n    },\n    {\n      \"column\": \"active_member\",\n      \"properties\": {\n        \"dtype\": \"number\",\n        \"std\": 0,\n        \"min\": 0,\n        \"max\": 1,\n        \"num_unique_values\": 2,\n        \"samples\": [\n          0,\n          1\n        ],\n        \"semantic_type\": \"\",\n        \"description\": \"\"\n      }\n    },\n    {\n      \"column\": \"estimated_salary\",\n      \"properties\": {\n        \"dtype\": \"number\",\n        \"std\": 57510.49281769822,\n        \"min\": 11.58,\n        \"max\": 199992.48,\n        \"num_unique_values\": 9999,\n        \"samples\": [\n          100809.99,\n          95273.73\n        ],\n        \"semantic_type\": \"\",\n        \"description\": \"\"\n      }\n    },\n    {\n      \"column\": \"churn\",\n      \"properties\": {\n        \"dtype\": \"number\",\n        \"std\": 0,\n        \"min\": 0,\n        \"max\": 1,\n        \"num_unique_values\": 2,\n        \"samples\": [\n          0,\n          1\n        ],\n        \"semantic_type\": \"\",\n        \"description\": \"\"\n      }\n    }\n  ]\n}"
            }
          },
          "metadata": {},
          "execution_count": 100
        }
      ],
      "source": [
        "df.head()"
      ]
    },
    {
      "cell_type": "code",
      "execution_count": 101,
      "metadata": {
        "execution": {
          "iopub.execute_input": "2020-11-14T09:44:11.773087Z",
          "iopub.status.busy": "2020-11-14T09:44:11.771957Z",
          "iopub.status.idle": "2020-11-14T09:44:11.776533Z",
          "shell.execute_reply": "2020-11-14T09:44:11.775911Z"
        },
        "papermill": {
          "duration": 0.072046,
          "end_time": "2020-11-14T09:44:11.776663",
          "exception": false,
          "start_time": "2020-11-14T09:44:11.704617",
          "status": "completed"
        },
        "tags": [],
        "colab": {
          "base_uri": "https://localhost:8080/"
        },
        "id": "Hr4RoGTg1bxY",
        "outputId": "326ec8c4-bc66-478a-ff51-f6ac592cd2b9"
      },
      "outputs": [
        {
          "output_type": "execute_result",
          "data": {
            "text/plain": [
              "(10000, 12)"
            ]
          },
          "metadata": {},
          "execution_count": 101
        }
      ],
      "source": [
        "df.shape"
      ]
    },
    {
      "cell_type": "code",
      "execution_count": 102,
      "metadata": {
        "execution": {
          "iopub.execute_input": "2020-11-14T09:44:11.912497Z",
          "iopub.status.busy": "2020-11-14T09:44:11.907982Z",
          "iopub.status.idle": "2020-11-14T09:44:11.926578Z",
          "shell.execute_reply": "2020-11-14T09:44:11.925980Z"
        },
        "papermill": {
          "duration": 0.08679,
          "end_time": "2020-11-14T09:44:11.926713",
          "exception": false,
          "start_time": "2020-11-14T09:44:11.839923",
          "status": "completed"
        },
        "tags": [],
        "colab": {
          "base_uri": "https://localhost:8080/"
        },
        "id": "YOrGcM531bxY",
        "outputId": "a316e592-ce35-495d-ae11-4999542d2826"
      },
      "outputs": [
        {
          "output_type": "stream",
          "name": "stdout",
          "text": [
            "<class 'pandas.core.frame.DataFrame'>\n",
            "RangeIndex: 10000 entries, 0 to 9999\n",
            "Data columns (total 12 columns):\n",
            " #   Column            Non-Null Count  Dtype  \n",
            "---  ------            --------------  -----  \n",
            " 0   customer_id       10000 non-null  int64  \n",
            " 1   credit_score      10000 non-null  int64  \n",
            " 2   country           10000 non-null  object \n",
            " 3   gender            10000 non-null  object \n",
            " 4   age               10000 non-null  int64  \n",
            " 5   tenure            10000 non-null  int64  \n",
            " 6   balance           10000 non-null  float64\n",
            " 7   products_number   10000 non-null  int64  \n",
            " 8   credit_card       10000 non-null  int64  \n",
            " 9   active_member     10000 non-null  int64  \n",
            " 10  estimated_salary  10000 non-null  float64\n",
            " 11  churn             10000 non-null  int64  \n",
            "dtypes: float64(2), int64(8), object(2)\n",
            "memory usage: 937.6+ KB\n"
          ]
        }
      ],
      "source": [
        "df.info()"
      ]
    },
    {
      "cell_type": "code",
      "execution_count": 103,
      "metadata": {
        "execution": {
          "iopub.execute_input": "2020-11-14T09:44:12.066787Z",
          "iopub.status.busy": "2020-11-14T09:44:12.065991Z",
          "iopub.status.idle": "2020-11-14T09:44:12.113061Z",
          "shell.execute_reply": "2020-11-14T09:44:12.112327Z"
        },
        "papermill": {
          "duration": 0.120841,
          "end_time": "2020-11-14T09:44:12.113208",
          "exception": false,
          "start_time": "2020-11-14T09:44:11.992367",
          "status": "completed"
        },
        "tags": [],
        "colab": {
          "base_uri": "https://localhost:8080/",
          "height": 320
        },
        "id": "jhhTASu51bxY",
        "outputId": "e5a73d82-c749-40d3-c59b-e8adbe745e92"
      },
      "outputs": [
        {
          "output_type": "execute_result",
          "data": {
            "text/plain": [
              "        customer_id  credit_score           age        tenure        balance  \\\n",
              "count  1.000000e+04  10000.000000  10000.000000  10000.000000   10000.000000   \n",
              "mean   1.569094e+07    650.528800     38.921800      5.012800   76485.889288   \n",
              "std    7.193619e+04     96.653299     10.487806      2.892174   62397.405202   \n",
              "min    1.556570e+07    350.000000     18.000000      0.000000       0.000000   \n",
              "25%    1.562853e+07    584.000000     32.000000      3.000000       0.000000   \n",
              "50%    1.569074e+07    652.000000     37.000000      5.000000   97198.540000   \n",
              "75%    1.575323e+07    718.000000     44.000000      7.000000  127644.240000   \n",
              "max    1.581569e+07    850.000000     92.000000     10.000000  250898.090000   \n",
              "\n",
              "       products_number  credit_card  active_member  estimated_salary  \\\n",
              "count     10000.000000  10000.00000   10000.000000      10000.000000   \n",
              "mean          1.530200      0.70550       0.515100     100090.239881   \n",
              "std           0.581654      0.45584       0.499797      57510.492818   \n",
              "min           1.000000      0.00000       0.000000         11.580000   \n",
              "25%           1.000000      0.00000       0.000000      51002.110000   \n",
              "50%           1.000000      1.00000       1.000000     100193.915000   \n",
              "75%           2.000000      1.00000       1.000000     149388.247500   \n",
              "max           4.000000      1.00000       1.000000     199992.480000   \n",
              "\n",
              "              churn  \n",
              "count  10000.000000  \n",
              "mean       0.203700  \n",
              "std        0.402769  \n",
              "min        0.000000  \n",
              "25%        0.000000  \n",
              "50%        0.000000  \n",
              "75%        0.000000  \n",
              "max        1.000000  "
            ],
            "text/html": [
              "\n",
              "  <div id=\"df-19614b3c-f5e3-4f1c-9b1d-7643c8c32726\" class=\"colab-df-container\">\n",
              "    <div>\n",
              "<style scoped>\n",
              "    .dataframe tbody tr th:only-of-type {\n",
              "        vertical-align: middle;\n",
              "    }\n",
              "\n",
              "    .dataframe tbody tr th {\n",
              "        vertical-align: top;\n",
              "    }\n",
              "\n",
              "    .dataframe thead th {\n",
              "        text-align: right;\n",
              "    }\n",
              "</style>\n",
              "<table border=\"1\" class=\"dataframe\">\n",
              "  <thead>\n",
              "    <tr style=\"text-align: right;\">\n",
              "      <th></th>\n",
              "      <th>customer_id</th>\n",
              "      <th>credit_score</th>\n",
              "      <th>age</th>\n",
              "      <th>tenure</th>\n",
              "      <th>balance</th>\n",
              "      <th>products_number</th>\n",
              "      <th>credit_card</th>\n",
              "      <th>active_member</th>\n",
              "      <th>estimated_salary</th>\n",
              "      <th>churn</th>\n",
              "    </tr>\n",
              "  </thead>\n",
              "  <tbody>\n",
              "    <tr>\n",
              "      <th>count</th>\n",
              "      <td>1.000000e+04</td>\n",
              "      <td>10000.000000</td>\n",
              "      <td>10000.000000</td>\n",
              "      <td>10000.000000</td>\n",
              "      <td>10000.000000</td>\n",
              "      <td>10000.000000</td>\n",
              "      <td>10000.00000</td>\n",
              "      <td>10000.000000</td>\n",
              "      <td>10000.000000</td>\n",
              "      <td>10000.000000</td>\n",
              "    </tr>\n",
              "    <tr>\n",
              "      <th>mean</th>\n",
              "      <td>1.569094e+07</td>\n",
              "      <td>650.528800</td>\n",
              "      <td>38.921800</td>\n",
              "      <td>5.012800</td>\n",
              "      <td>76485.889288</td>\n",
              "      <td>1.530200</td>\n",
              "      <td>0.70550</td>\n",
              "      <td>0.515100</td>\n",
              "      <td>100090.239881</td>\n",
              "      <td>0.203700</td>\n",
              "    </tr>\n",
              "    <tr>\n",
              "      <th>std</th>\n",
              "      <td>7.193619e+04</td>\n",
              "      <td>96.653299</td>\n",
              "      <td>10.487806</td>\n",
              "      <td>2.892174</td>\n",
              "      <td>62397.405202</td>\n",
              "      <td>0.581654</td>\n",
              "      <td>0.45584</td>\n",
              "      <td>0.499797</td>\n",
              "      <td>57510.492818</td>\n",
              "      <td>0.402769</td>\n",
              "    </tr>\n",
              "    <tr>\n",
              "      <th>min</th>\n",
              "      <td>1.556570e+07</td>\n",
              "      <td>350.000000</td>\n",
              "      <td>18.000000</td>\n",
              "      <td>0.000000</td>\n",
              "      <td>0.000000</td>\n",
              "      <td>1.000000</td>\n",
              "      <td>0.00000</td>\n",
              "      <td>0.000000</td>\n",
              "      <td>11.580000</td>\n",
              "      <td>0.000000</td>\n",
              "    </tr>\n",
              "    <tr>\n",
              "      <th>25%</th>\n",
              "      <td>1.562853e+07</td>\n",
              "      <td>584.000000</td>\n",
              "      <td>32.000000</td>\n",
              "      <td>3.000000</td>\n",
              "      <td>0.000000</td>\n",
              "      <td>1.000000</td>\n",
              "      <td>0.00000</td>\n",
              "      <td>0.000000</td>\n",
              "      <td>51002.110000</td>\n",
              "      <td>0.000000</td>\n",
              "    </tr>\n",
              "    <tr>\n",
              "      <th>50%</th>\n",
              "      <td>1.569074e+07</td>\n",
              "      <td>652.000000</td>\n",
              "      <td>37.000000</td>\n",
              "      <td>5.000000</td>\n",
              "      <td>97198.540000</td>\n",
              "      <td>1.000000</td>\n",
              "      <td>1.00000</td>\n",
              "      <td>1.000000</td>\n",
              "      <td>100193.915000</td>\n",
              "      <td>0.000000</td>\n",
              "    </tr>\n",
              "    <tr>\n",
              "      <th>75%</th>\n",
              "      <td>1.575323e+07</td>\n",
              "      <td>718.000000</td>\n",
              "      <td>44.000000</td>\n",
              "      <td>7.000000</td>\n",
              "      <td>127644.240000</td>\n",
              "      <td>2.000000</td>\n",
              "      <td>1.00000</td>\n",
              "      <td>1.000000</td>\n",
              "      <td>149388.247500</td>\n",
              "      <td>0.000000</td>\n",
              "    </tr>\n",
              "    <tr>\n",
              "      <th>max</th>\n",
              "      <td>1.581569e+07</td>\n",
              "      <td>850.000000</td>\n",
              "      <td>92.000000</td>\n",
              "      <td>10.000000</td>\n",
              "      <td>250898.090000</td>\n",
              "      <td>4.000000</td>\n",
              "      <td>1.00000</td>\n",
              "      <td>1.000000</td>\n",
              "      <td>199992.480000</td>\n",
              "      <td>1.000000</td>\n",
              "    </tr>\n",
              "  </tbody>\n",
              "</table>\n",
              "</div>\n",
              "    <div class=\"colab-df-buttons\">\n",
              "\n",
              "  <div class=\"colab-df-container\">\n",
              "    <button class=\"colab-df-convert\" onclick=\"convertToInteractive('df-19614b3c-f5e3-4f1c-9b1d-7643c8c32726')\"\n",
              "            title=\"Convert this dataframe to an interactive table.\"\n",
              "            style=\"display:none;\">\n",
              "\n",
              "  <svg xmlns=\"http://www.w3.org/2000/svg\" height=\"24px\" viewBox=\"0 -960 960 960\">\n",
              "    <path d=\"M120-120v-720h720v720H120Zm60-500h600v-160H180v160Zm220 220h160v-160H400v160Zm0 220h160v-160H400v160ZM180-400h160v-160H180v160Zm440 0h160v-160H620v160ZM180-180h160v-160H180v160Zm440 0h160v-160H620v160Z\"/>\n",
              "  </svg>\n",
              "    </button>\n",
              "\n",
              "  <style>\n",
              "    .colab-df-container {\n",
              "      display:flex;\n",
              "      gap: 12px;\n",
              "    }\n",
              "\n",
              "    .colab-df-convert {\n",
              "      background-color: #E8F0FE;\n",
              "      border: none;\n",
              "      border-radius: 50%;\n",
              "      cursor: pointer;\n",
              "      display: none;\n",
              "      fill: #1967D2;\n",
              "      height: 32px;\n",
              "      padding: 0 0 0 0;\n",
              "      width: 32px;\n",
              "    }\n",
              "\n",
              "    .colab-df-convert:hover {\n",
              "      background-color: #E2EBFA;\n",
              "      box-shadow: 0px 1px 2px rgba(60, 64, 67, 0.3), 0px 1px 3px 1px rgba(60, 64, 67, 0.15);\n",
              "      fill: #174EA6;\n",
              "    }\n",
              "\n",
              "    .colab-df-buttons div {\n",
              "      margin-bottom: 4px;\n",
              "    }\n",
              "\n",
              "    [theme=dark] .colab-df-convert {\n",
              "      background-color: #3B4455;\n",
              "      fill: #D2E3FC;\n",
              "    }\n",
              "\n",
              "    [theme=dark] .colab-df-convert:hover {\n",
              "      background-color: #434B5C;\n",
              "      box-shadow: 0px 1px 3px 1px rgba(0, 0, 0, 0.15);\n",
              "      filter: drop-shadow(0px 1px 2px rgba(0, 0, 0, 0.3));\n",
              "      fill: #FFFFFF;\n",
              "    }\n",
              "  </style>\n",
              "\n",
              "    <script>\n",
              "      const buttonEl =\n",
              "        document.querySelector('#df-19614b3c-f5e3-4f1c-9b1d-7643c8c32726 button.colab-df-convert');\n",
              "      buttonEl.style.display =\n",
              "        google.colab.kernel.accessAllowed ? 'block' : 'none';\n",
              "\n",
              "      async function convertToInteractive(key) {\n",
              "        const element = document.querySelector('#df-19614b3c-f5e3-4f1c-9b1d-7643c8c32726');\n",
              "        const dataTable =\n",
              "          await google.colab.kernel.invokeFunction('convertToInteractive',\n",
              "                                                    [key], {});\n",
              "        if (!dataTable) return;\n",
              "\n",
              "        const docLinkHtml = 'Like what you see? Visit the ' +\n",
              "          '<a target=\"_blank\" href=https://colab.research.google.com/notebooks/data_table.ipynb>data table notebook</a>'\n",
              "          + ' to learn more about interactive tables.';\n",
              "        element.innerHTML = '';\n",
              "        dataTable['output_type'] = 'display_data';\n",
              "        await google.colab.output.renderOutput(dataTable, element);\n",
              "        const docLink = document.createElement('div');\n",
              "        docLink.innerHTML = docLinkHtml;\n",
              "        element.appendChild(docLink);\n",
              "      }\n",
              "    </script>\n",
              "  </div>\n",
              "\n",
              "\n",
              "<div id=\"df-25315e1b-1a00-4cb0-9991-9b1c0ab8c05c\">\n",
              "  <button class=\"colab-df-quickchart\" onclick=\"quickchart('df-25315e1b-1a00-4cb0-9991-9b1c0ab8c05c')\"\n",
              "            title=\"Suggest charts\"\n",
              "            style=\"display:none;\">\n",
              "\n",
              "<svg xmlns=\"http://www.w3.org/2000/svg\" height=\"24px\"viewBox=\"0 0 24 24\"\n",
              "     width=\"24px\">\n",
              "    <g>\n",
              "        <path d=\"M19 3H5c-1.1 0-2 .9-2 2v14c0 1.1.9 2 2 2h14c1.1 0 2-.9 2-2V5c0-1.1-.9-2-2-2zM9 17H7v-7h2v7zm4 0h-2V7h2v10zm4 0h-2v-4h2v4z\"/>\n",
              "    </g>\n",
              "</svg>\n",
              "  </button>\n",
              "\n",
              "<style>\n",
              "  .colab-df-quickchart {\n",
              "      --bg-color: #E8F0FE;\n",
              "      --fill-color: #1967D2;\n",
              "      --hover-bg-color: #E2EBFA;\n",
              "      --hover-fill-color: #174EA6;\n",
              "      --disabled-fill-color: #AAA;\n",
              "      --disabled-bg-color: #DDD;\n",
              "  }\n",
              "\n",
              "  [theme=dark] .colab-df-quickchart {\n",
              "      --bg-color: #3B4455;\n",
              "      --fill-color: #D2E3FC;\n",
              "      --hover-bg-color: #434B5C;\n",
              "      --hover-fill-color: #FFFFFF;\n",
              "      --disabled-bg-color: #3B4455;\n",
              "      --disabled-fill-color: #666;\n",
              "  }\n",
              "\n",
              "  .colab-df-quickchart {\n",
              "    background-color: var(--bg-color);\n",
              "    border: none;\n",
              "    border-radius: 50%;\n",
              "    cursor: pointer;\n",
              "    display: none;\n",
              "    fill: var(--fill-color);\n",
              "    height: 32px;\n",
              "    padding: 0;\n",
              "    width: 32px;\n",
              "  }\n",
              "\n",
              "  .colab-df-quickchart:hover {\n",
              "    background-color: var(--hover-bg-color);\n",
              "    box-shadow: 0 1px 2px rgba(60, 64, 67, 0.3), 0 1px 3px 1px rgba(60, 64, 67, 0.15);\n",
              "    fill: var(--button-hover-fill-color);\n",
              "  }\n",
              "\n",
              "  .colab-df-quickchart-complete:disabled,\n",
              "  .colab-df-quickchart-complete:disabled:hover {\n",
              "    background-color: var(--disabled-bg-color);\n",
              "    fill: var(--disabled-fill-color);\n",
              "    box-shadow: none;\n",
              "  }\n",
              "\n",
              "  .colab-df-spinner {\n",
              "    border: 2px solid var(--fill-color);\n",
              "    border-color: transparent;\n",
              "    border-bottom-color: var(--fill-color);\n",
              "    animation:\n",
              "      spin 1s steps(1) infinite;\n",
              "  }\n",
              "\n",
              "  @keyframes spin {\n",
              "    0% {\n",
              "      border-color: transparent;\n",
              "      border-bottom-color: var(--fill-color);\n",
              "      border-left-color: var(--fill-color);\n",
              "    }\n",
              "    20% {\n",
              "      border-color: transparent;\n",
              "      border-left-color: var(--fill-color);\n",
              "      border-top-color: var(--fill-color);\n",
              "    }\n",
              "    30% {\n",
              "      border-color: transparent;\n",
              "      border-left-color: var(--fill-color);\n",
              "      border-top-color: var(--fill-color);\n",
              "      border-right-color: var(--fill-color);\n",
              "    }\n",
              "    40% {\n",
              "      border-color: transparent;\n",
              "      border-right-color: var(--fill-color);\n",
              "      border-top-color: var(--fill-color);\n",
              "    }\n",
              "    60% {\n",
              "      border-color: transparent;\n",
              "      border-right-color: var(--fill-color);\n",
              "    }\n",
              "    80% {\n",
              "      border-color: transparent;\n",
              "      border-right-color: var(--fill-color);\n",
              "      border-bottom-color: var(--fill-color);\n",
              "    }\n",
              "    90% {\n",
              "      border-color: transparent;\n",
              "      border-bottom-color: var(--fill-color);\n",
              "    }\n",
              "  }\n",
              "</style>\n",
              "\n",
              "  <script>\n",
              "    async function quickchart(key) {\n",
              "      const quickchartButtonEl =\n",
              "        document.querySelector('#' + key + ' button');\n",
              "      quickchartButtonEl.disabled = true;  // To prevent multiple clicks.\n",
              "      quickchartButtonEl.classList.add('colab-df-spinner');\n",
              "      try {\n",
              "        const charts = await google.colab.kernel.invokeFunction(\n",
              "            'suggestCharts', [key], {});\n",
              "      } catch (error) {\n",
              "        console.error('Error during call to suggestCharts:', error);\n",
              "      }\n",
              "      quickchartButtonEl.classList.remove('colab-df-spinner');\n",
              "      quickchartButtonEl.classList.add('colab-df-quickchart-complete');\n",
              "    }\n",
              "    (() => {\n",
              "      let quickchartButtonEl =\n",
              "        document.querySelector('#df-25315e1b-1a00-4cb0-9991-9b1c0ab8c05c button');\n",
              "      quickchartButtonEl.style.display =\n",
              "        google.colab.kernel.accessAllowed ? 'block' : 'none';\n",
              "    })();\n",
              "  </script>\n",
              "</div>\n",
              "\n",
              "    </div>\n",
              "  </div>\n"
            ],
            "application/vnd.google.colaboratory.intrinsic+json": {
              "type": "dataframe",
              "summary": "{\n  \"name\": \"df\",\n  \"rows\": 8,\n  \"fields\": [\n    {\n      \"column\": \"customer_id\",\n      \"properties\": {\n        \"dtype\": \"number\",\n        \"std\": 7244870.561655487,\n        \"min\": 10000.0,\n        \"max\": 15815690.0,\n        \"num_unique_values\": 8,\n        \"samples\": [\n          15690940.5694,\n          15690738.0,\n          10000.0\n        ],\n        \"semantic_type\": \"\",\n        \"description\": \"\"\n      }\n    },\n    {\n      \"column\": \"credit_score\",\n      \"properties\": {\n        \"dtype\": \"number\",\n        \"std\": 3346.722396870626,\n        \"min\": 96.65329873613061,\n        \"max\": 10000.0,\n        \"num_unique_values\": 8,\n        \"samples\": [\n          650.5288,\n          652.0,\n          10000.0\n        ],\n        \"semantic_type\": \"\",\n        \"description\": \"\"\n      }\n    },\n    {\n      \"column\": \"age\",\n      \"properties\": {\n        \"dtype\": \"number\",\n        \"std\": 3521.859127755016,\n        \"min\": 10.487806451704591,\n        \"max\": 10000.0,\n        \"num_unique_values\": 8,\n        \"samples\": [\n          38.9218,\n          37.0,\n          10000.0\n        ],\n        \"semantic_type\": \"\",\n        \"description\": \"\"\n      }\n    },\n    {\n      \"column\": \"tenure\",\n      \"properties\": {\n        \"dtype\": \"number\",\n        \"std\": 3533.873203213367,\n        \"min\": 0.0,\n        \"max\": 10000.0,\n        \"num_unique_values\": 8,\n        \"samples\": [\n          5.0128,\n          5.0,\n          10000.0\n        ],\n        \"semantic_type\": \"\",\n        \"description\": \"\"\n      }\n    },\n    {\n      \"column\": \"balance\",\n      \"properties\": {\n        \"dtype\": \"number\",\n        \"std\": 84316.21503683121,\n        \"min\": 0.0,\n        \"max\": 250898.09,\n        \"num_unique_values\": 7,\n        \"samples\": [\n          10000.0,\n          76485.889288,\n          127644.24\n        ],\n        \"semantic_type\": \"\",\n        \"description\": \"\"\n      }\n    },\n    {\n      \"column\": \"products_number\",\n      \"properties\": {\n        \"dtype\": \"number\",\n        \"std\": 3534.972835009293,\n        \"min\": 0.5816543579989936,\n        \"max\": 10000.0,\n        \"num_unique_values\": 6,\n        \"samples\": [\n          10000.0,\n          1.5302,\n          4.0\n        ],\n        \"semantic_type\": \"\",\n        \"description\": \"\"\n      }\n    },\n    {\n      \"column\": \"credit_card\",\n      \"properties\": {\n        \"dtype\": \"number\",\n        \"std\": 3535.323751385342,\n        \"min\": 0.0,\n        \"max\": 10000.0,\n        \"num_unique_values\": 5,\n        \"samples\": [\n          0.7055,\n          1.0,\n          0.45584046447514237\n        ],\n        \"semantic_type\": \"\",\n        \"description\": \"\"\n      }\n    },\n    {\n      \"column\": \"active_member\",\n      \"properties\": {\n        \"dtype\": \"number\",\n        \"std\": 3535.33114750997,\n        \"min\": 0.0,\n        \"max\": 10000.0,\n        \"num_unique_values\": 5,\n        \"samples\": [\n          0.5151,\n          1.0,\n          0.4997969284589202\n        ],\n        \"semantic_type\": \"\",\n        \"description\": \"\"\n      }\n    },\n    {\n      \"column\": \"estimated_salary\",\n      \"properties\": {\n        \"dtype\": \"number\",\n        \"std\": 68211.65700170657,\n        \"min\": 11.58,\n        \"max\": 199992.48,\n        \"num_unique_values\": 8,\n        \"samples\": [\n          100090.239881,\n          100193.915,\n          10000.0\n        ],\n        \"semantic_type\": \"\",\n        \"description\": \"\"\n      }\n    },\n    {\n      \"column\": \"churn\",\n      \"properties\": {\n        \"dtype\": \"number\",\n        \"std\": 3535.452783887065,\n        \"min\": 0.0,\n        \"max\": 10000.0,\n        \"num_unique_values\": 5,\n        \"samples\": [\n          0.2037,\n          1.0,\n          0.40276858399484955\n        ],\n        \"semantic_type\": \"\",\n        \"description\": \"\"\n      }\n    }\n  ]\n}"
            }
          },
          "metadata": {},
          "execution_count": 103
        }
      ],
      "source": [
        "df.describe()"
      ]
    },
    {
      "cell_type": "code",
      "execution_count": 104,
      "metadata": {
        "execution": {
          "iopub.execute_input": "2020-11-14T09:44:12.248983Z",
          "iopub.status.busy": "2020-11-14T09:44:12.247977Z",
          "iopub.status.idle": "2020-11-14T09:44:12.260098Z",
          "shell.execute_reply": "2020-11-14T09:44:12.260659Z"
        },
        "papermill": {
          "duration": 0.083339,
          "end_time": "2020-11-14T09:44:12.260820",
          "exception": false,
          "start_time": "2020-11-14T09:44:12.177481",
          "status": "completed"
        },
        "tags": [],
        "colab": {
          "base_uri": "https://localhost:8080/"
        },
        "id": "v5nyWKs-1bxY",
        "outputId": "7e64b065-bc0a-434f-d24c-4f0cdc14c693"
      },
      "outputs": [
        {
          "output_type": "execute_result",
          "data": {
            "text/plain": [
              "['country',\n",
              " 'gender',\n",
              " 'tenure',\n",
              " 'products_number',\n",
              " 'credit_card',\n",
              " 'active_member']"
            ]
          },
          "metadata": {},
          "execution_count": 104
        }
      ],
      "source": [
        "categorical_variables = [col for col in df.columns if col in \"O\"\n",
        "                        or df[col].nunique() <=11\n",
        "                        and col not in \"churn\"]\n",
        "\n",
        "categorical_variables"
      ]
    },
    {
      "cell_type": "code",
      "execution_count": 105,
      "metadata": {
        "execution": {
          "iopub.execute_input": "2020-11-14T09:44:12.398689Z",
          "iopub.status.busy": "2020-11-14T09:44:12.397915Z",
          "iopub.status.idle": "2020-11-14T09:44:12.405820Z",
          "shell.execute_reply": "2020-11-14T09:44:12.405217Z"
        },
        "papermill": {
          "duration": 0.079013,
          "end_time": "2020-11-14T09:44:12.405952",
          "exception": false,
          "start_time": "2020-11-14T09:44:12.326939",
          "status": "completed"
        },
        "tags": [],
        "colab": {
          "base_uri": "https://localhost:8080/"
        },
        "id": "0CbCIMW-1bxZ",
        "outputId": "eb203f9a-aa02-4443-88cb-9593bceadc1f"
      },
      "outputs": [
        {
          "output_type": "execute_result",
          "data": {
            "text/plain": [
              "['credit_score', 'age', 'balance', 'estimated_salary']"
            ]
          },
          "metadata": {},
          "execution_count": 105
        }
      ],
      "source": [
        "numeric_variables = [col for col in df.columns if df[col].dtype != \"object\"\n",
        "                        and df[col].nunique() >11\n",
        "                        and col not in \"customer_id\"]\n",
        "numeric_variables"
      ]
    },
    {
      "cell_type": "code",
      "execution_count": 106,
      "metadata": {
        "execution": {
          "iopub.execute_input": "2020-11-14T09:44:12.675347Z",
          "iopub.status.busy": "2020-11-14T09:44:12.674470Z",
          "iopub.status.idle": "2020-11-14T09:44:12.678837Z",
          "shell.execute_reply": "2020-11-14T09:44:12.678258Z"
        },
        "papermill": {
          "duration": 0.077348,
          "end_time": "2020-11-14T09:44:12.678962",
          "exception": false,
          "start_time": "2020-11-14T09:44:12.601614",
          "status": "completed"
        },
        "tags": [],
        "colab": {
          "base_uri": "https://localhost:8080/",
          "height": 178
        },
        "id": "O-DGF-yG1bxZ",
        "outputId": "1e7339cb-7edd-48db-da33-c30bdf936059"
      },
      "outputs": [
        {
          "output_type": "execute_result",
          "data": {
            "text/plain": [
              "churn\n",
              "0    7963\n",
              "1    2037\n",
              "Name: count, dtype: int64"
            ],
            "text/html": [
              "<div>\n",
              "<style scoped>\n",
              "    .dataframe tbody tr th:only-of-type {\n",
              "        vertical-align: middle;\n",
              "    }\n",
              "\n",
              "    .dataframe tbody tr th {\n",
              "        vertical-align: top;\n",
              "    }\n",
              "\n",
              "    .dataframe thead th {\n",
              "        text-align: right;\n",
              "    }\n",
              "</style>\n",
              "<table border=\"1\" class=\"dataframe\">\n",
              "  <thead>\n",
              "    <tr style=\"text-align: right;\">\n",
              "      <th></th>\n",
              "      <th>count</th>\n",
              "    </tr>\n",
              "    <tr>\n",
              "      <th>churn</th>\n",
              "      <th></th>\n",
              "    </tr>\n",
              "  </thead>\n",
              "  <tbody>\n",
              "    <tr>\n",
              "      <th>0</th>\n",
              "      <td>7963</td>\n",
              "    </tr>\n",
              "    <tr>\n",
              "      <th>1</th>\n",
              "      <td>2037</td>\n",
              "    </tr>\n",
              "  </tbody>\n",
              "</table>\n",
              "</div><br><label><b>dtype:</b> int64</label>"
            ]
          },
          "metadata": {},
          "execution_count": 106
        }
      ],
      "source": [
        "df[\"churn\"].value_counts()"
      ]
    },
    {
      "cell_type": "code",
      "execution_count": 107,
      "metadata": {
        "execution": {
          "iopub.execute_input": "2020-11-14T09:44:12.816282Z",
          "iopub.status.busy": "2020-11-14T09:44:12.815585Z",
          "iopub.status.idle": "2020-11-14T09:44:12.820357Z",
          "shell.execute_reply": "2020-11-14T09:44:12.820856Z"
        },
        "papermill": {
          "duration": 0.076171,
          "end_time": "2020-11-14T09:44:12.821002",
          "exception": false,
          "start_time": "2020-11-14T09:44:12.744831",
          "status": "completed"
        },
        "tags": [],
        "id": "jNNPl8hX1bxZ"
      },
      "outputs": [],
      "source": [
        "exit = df.loc[df[\"churn\"]==1]\n",
        "not_exit = df.loc[df[\"churn\"]==0]"
      ]
    },
    {
      "cell_type": "code",
      "execution_count": 108,
      "metadata": {
        "colab": {
          "base_uri": "https://localhost:8080/"
        },
        "id": "DQ1fF0I31bxZ",
        "outputId": "db996a36-ec18-47d3-8f83-97afc1545284"
      },
      "outputs": [
        {
          "output_type": "execute_result",
          "data": {
            "text/plain": [
              "(7963, 12)"
            ]
          },
          "metadata": {},
          "execution_count": 108
        }
      ],
      "source": [
        "not_exit.shape\n",
        "#exit.shape"
      ]
    },
    {
      "cell_type": "code",
      "execution_count": 109,
      "metadata": {
        "colab": {
          "base_uri": "https://localhost:8080/"
        },
        "id": "CorGWOfn1bxZ",
        "outputId": "8df3d48f-9665-46eb-a644-8dab464b9176"
      },
      "outputs": [
        {
          "output_type": "stream",
          "name": "stdout",
          "text": [
            "Tenure frequency of the churned and not churned groups\n",
            "tenure\n",
            "0     318\n",
            "10    389\n",
            "9     771\n",
            "6     771\n",
            "4     786\n",
            "3     796\n",
            "5     803\n",
            "1     803\n",
            "8     828\n",
            "2     847\n",
            "7     851\n",
            "Name: count, dtype: int64\n",
            "tenure\n",
            "0      95\n",
            "10    101\n",
            "7     177\n",
            "6     196\n",
            "8     197\n",
            "2     201\n",
            "4     203\n",
            "5     209\n",
            "3     213\n",
            "9     213\n",
            "1     232\n",
            "Name: count, dtype: int64\n",
            "Number of products frequency of the churned and not churned groups\n",
            "products_number\n",
            "3      46\n",
            "1    3675\n",
            "2    4242\n",
            "Name: count, dtype: int64\n",
            "products_number\n",
            "4      60\n",
            "3     220\n",
            "2     348\n",
            "1    1409\n",
            "Name: count, dtype: int64\n",
            "credit card frequency of the churned and not churned groups\n",
            "credit_card\n",
            "0    2332\n",
            "1    5631\n",
            "Name: count, dtype: int64\n",
            "credit_card\n",
            "0     613\n",
            "1    1424\n",
            "Name: count, dtype: int64\n",
            "If active based frequency of the churned and not churned groups\n",
            "active_member\n",
            "0    3547\n",
            "1    4416\n",
            "Name: count, dtype: int64\n",
            "active_member\n",
            "1     735\n",
            "0    1302\n",
            "Name: count, dtype: int64\n",
            "country frequency of the churned and not churned groups\n",
            "country\n",
            "Germany    1695\n",
            "Spain      2064\n",
            "France     4204\n",
            "Name: count, dtype: int64\n",
            "country\n",
            "Spain      413\n",
            "France     810\n",
            "Germany    814\n",
            "Name: count, dtype: int64\n",
            "gender frequency of the churned and not churned groups\n",
            "gender\n",
            "Female    3404\n",
            "Male      4559\n",
            "Name: count, dtype: int64\n",
            "gender\n",
            "Male       898\n",
            "Female    1139\n",
            "Name: count, dtype: int64\n"
          ]
        }
      ],
      "source": [
        "def get_sorted_value_counts(df, column_name):\n",
        "    return df[column_name].value_counts().sort_values()\n",
        "\n",
        "print('Tenure frequency of the churned and not churned groups')\n",
        "print(get_sorted_value_counts(not_exit, \"tenure\"))\n",
        "print(get_sorted_value_counts(exit, \"tenure\"))\n",
        "\n",
        "print('Number of products frequency of the churned and not churned groups')\n",
        "print(get_sorted_value_counts(not_exit, \"products_number\"))\n",
        "print(get_sorted_value_counts(exit, \"products_number\"))\n",
        "\n",
        "print('credit card frequency of the churned and not churned groups')\n",
        "print(get_sorted_value_counts(not_exit, \"credit_card\"))\n",
        "print(get_sorted_value_counts(exit, \"credit_card\"))\n",
        "\n",
        "print('If active based frequency of the churned and not churned groups')\n",
        "print(get_sorted_value_counts(not_exit, \"active_member\"))\n",
        "print(get_sorted_value_counts(exit, \"active_member\"))\n",
        "\n",
        "print('country frequency of the churned and not churned groups')\n",
        "print(get_sorted_value_counts(not_exit, \"country\"))\n",
        "print(get_sorted_value_counts(exit, \"country\"))\n",
        "\n",
        "print('gender frequency of the churned and not churned groups')\n",
        "print(get_sorted_value_counts(not_exit, \"gender\"))\n",
        "print(get_sorted_value_counts(exit, \"gender\"))\n"
      ]
    },
    {
      "cell_type": "code",
      "execution_count": 110,
      "metadata": {
        "execution": {
          "iopub.execute_input": "2020-11-14T09:44:16.463553Z",
          "iopub.status.busy": "2020-11-14T09:44:16.462821Z",
          "iopub.status.idle": "2020-11-14T09:44:16.735677Z",
          "shell.execute_reply": "2020-11-14T09:44:16.735006Z"
        },
        "papermill": {
          "duration": 0.358693,
          "end_time": "2020-11-14T09:44:16.735798",
          "exception": false,
          "start_time": "2020-11-14T09:44:16.377105",
          "status": "completed"
        },
        "tags": [],
        "colab": {
          "base_uri": "https://localhost:8080/",
          "height": 542
        },
        "id": "ZUNA_aq81bxa",
        "outputId": "67270336-0e38-4f4c-8329-a02e9e06ff95"
      },
      "outputs": [
        {
          "output_type": "display_data",
          "data": {
            "text/plain": [
              "<Figure size 800x600 with 1 Axes>"
            ],
            "image/png": "[encoded data removed]"
          },
          "metadata": {}
        }
      ],
      "source": [
        "# distribution of the Credit Score for not_exit\n",
        "pyplot.figure(figsize=(8,6))\n",
        "pyplot.xlabel('credit_score')\n",
        "pyplot.hist(not_exit[\"credit_score\"],bins=15, alpha=0.7, label='Not Exit')\n",
        "pyplot.legend(loc='upper right')\n",
        "pyplot.show()"
      ]
    },
    {
      "cell_type": "code",
      "execution_count": 111,
      "metadata": {
        "execution": {
          "iopub.execute_input": "2020-11-14T09:44:17.068369Z",
          "iopub.status.busy": "2020-11-14T09:44:17.062769Z",
          "iopub.status.idle": "2020-11-14T09:44:17.299939Z",
          "shell.execute_reply": "2020-11-14T09:44:17.299196Z"
        },
        "papermill": {
          "duration": 0.320956,
          "end_time": "2020-11-14T09:44:17.300064",
          "exception": false,
          "start_time": "2020-11-14T09:44:16.979108",
          "status": "completed"
        },
        "tags": [],
        "colab": {
          "base_uri": "https://localhost:8080/",
          "height": 542
        },
        "id": "4ko5-mRU1bxa",
        "outputId": "940e4203-3380-452d-9f38-76a075aab69a"
      },
      "outputs": [
        {
          "output_type": "display_data",
          "data": {
            "text/plain": [
              "<Figure size 800x600 with 1 Axes>"
            ],
            "image/png": "[encoded data removed]"
          },
          "metadata": {}
        }
      ],
      "source": [
        "# distribution of the Credit Score for exit\n",
        "pyplot.figure(figsize=(8,6))\n",
        "pyplot.xlabel('credit_score')\n",
        "pyplot.hist(exit[\"credit_score\"],bins=15, alpha=0.8, label='exit')\n",
        "pyplot.legend(loc='upper right')\n",
        "pyplot.show()"
      ]
    },
    {
      "cell_type": "code",
      "execution_count": 112,
      "metadata": {
        "execution": {
          "iopub.execute_input": "2020-11-14T09:44:18.395390Z",
          "iopub.status.busy": "2020-11-14T09:44:18.389203Z",
          "iopub.status.idle": "2020-11-14T09:44:18.652098Z",
          "shell.execute_reply": "2020-11-14T09:44:18.651453Z"
        },
        "papermill": {
          "duration": 0.35067,
          "end_time": "2020-11-14T09:44:18.652256",
          "exception": false,
          "start_time": "2020-11-14T09:44:18.301586",
          "status": "completed"
        },
        "tags": [],
        "colab": {
          "base_uri": "https://localhost:8080/",
          "height": 537
        },
        "id": "A5FeD92j1bxa",
        "outputId": "f661c6d6-8b0d-4e2f-cf30-bdc053294f56"
      },
      "outputs": [
        {
          "output_type": "display_data",
          "data": {
            "text/plain": [
              "<Figure size 800x600 with 1 Axes>"
            ],
            "image/png": "[encoded data removed]"
          },
          "metadata": {}
        }
      ],
      "source": [
        "# distribution of the Age for not_exit\n",
        "pyplot.figure(figsize=(8,6))\n",
        "pyplot.xlabel('age')\n",
        "pyplot.hist(not_exit[\"age\"],bins=15, alpha=0.7, label='Not Exit')\n",
        "pyplot.legend(loc='upper right')\n",
        "pyplot.show()"
      ]
    },
    {
      "cell_type": "code",
      "execution_count": 113,
      "metadata": {
        "execution": {
          "iopub.execute_input": "2020-11-14T09:44:19.011584Z",
          "iopub.status.busy": "2020-11-14T09:44:19.005237Z",
          "iopub.status.idle": "2020-11-14T09:44:19.258400Z",
          "shell.execute_reply": "2020-11-14T09:44:19.257649Z"
        },
        "papermill": {
          "duration": 0.342516,
          "end_time": "2020-11-14T09:44:19.258527",
          "exception": false,
          "start_time": "2020-11-14T09:44:18.916011",
          "status": "completed"
        },
        "tags": [],
        "colab": {
          "base_uri": "https://localhost:8080/",
          "height": 542
        },
        "id": "z3k3NydA1bxa",
        "outputId": "65ac5501-917d-4982-d602-3159228e8d7e"
      },
      "outputs": [
        {
          "output_type": "display_data",
          "data": {
            "text/plain": [
              "<Figure size 800x600 with 1 Axes>"
            ],
            "image/png": "[encoded data removed]"
          },
          "metadata": {}
        }
      ],
      "source": [
        "# distribution of the Age for exit\n",
        "pyplot.figure(figsize=(8,6))\n",
        "pyplot.xlabel('age')\n",
        "pyplot.hist(exit[\"age\"],bins=15, alpha=0.7, label='exit')\n",
        "pyplot.legend(loc='upper right')\n",
        "pyplot.show()"
      ]
    },
    {
      "cell_type": "code",
      "execution_count": 114,
      "metadata": {
        "execution": {
          "iopub.execute_input": "2020-11-14T09:44:21.016699Z",
          "iopub.status.busy": "2020-11-14T09:44:21.015912Z",
          "iopub.status.idle": "2020-11-14T09:44:21.248019Z",
          "shell.execute_reply": "2020-11-14T09:44:21.247230Z"
        },
        "papermill": {
          "duration": 0.337972,
          "end_time": "2020-11-14T09:44:21.248192",
          "exception": false,
          "start_time": "2020-11-14T09:44:20.910220",
          "status": "completed"
        },
        "tags": [],
        "colab": {
          "base_uri": "https://localhost:8080/",
          "height": 542
        },
        "id": "ryjTUAzd1bxa",
        "outputId": "e440424d-bbed-4d63-fbe0-755121863005"
      },
      "outputs": [
        {
          "output_type": "display_data",
          "data": {
            "text/plain": [
              "<Figure size 800x600 with 1 Axes>"
            ],
            "image/png": "[encoded data removed]"
          },
          "metadata": {}
        }
      ],
      "source": [
        "# distribution of the Balance for churn\n",
        "pyplot.figure(figsize=(8,6))\n",
        "pyplot.xlabel('balance')\n",
        "pyplot.hist(exit[\"balance\"],bins=15, alpha=0.7, label='exit')\n",
        "pyplot.legend(loc='upper right')\n",
        "pyplot.show()"
      ]
    },
    {
      "cell_type": "code",
      "execution_count": 115,
      "metadata": {
        "execution": {
          "iopub.execute_input": "2020-11-14T09:44:20.392598Z",
          "iopub.status.busy": "2020-11-14T09:44:20.387662Z",
          "iopub.status.idle": "2020-11-14T09:44:20.630846Z",
          "shell.execute_reply": "2020-11-14T09:44:20.630110Z"
        },
        "papermill": {
          "duration": 0.337548,
          "end_time": "2020-11-14T09:44:20.630965",
          "exception": false,
          "start_time": "2020-11-14T09:44:20.293417",
          "status": "completed"
        },
        "tags": [],
        "colab": {
          "base_uri": "https://localhost:8080/",
          "height": 537
        },
        "id": "eILYVMkH1bxa",
        "outputId": "88c2b421-4b70-485e-a167-a3a47d262123"
      },
      "outputs": [
        {
          "output_type": "display_data",
          "data": {
            "text/plain": [
              "<Figure size 800x600 with 1 Axes>"
            ],
            "image/png": "[encoded data removed]"
          },
          "metadata": {}
        }
      ],
      "source": [
        "# distribution of the Balance for not_exit\n",
        "pyplot.figure(figsize=(8,6))\n",
        "pyplot.xlabel('balance')\n",
        "pyplot.hist(not_exit[\"balance\"],bins=15, alpha=0.7, label='Not Exit')\n",
        "pyplot.legend(loc='upper right')\n",
        "pyplot.show()"
      ]
    },
    {
      "cell_type": "code",
      "execution_count": 116,
      "metadata": {
        "execution": {
          "iopub.execute_input": "2020-11-14T09:44:22.428394Z",
          "iopub.status.busy": "2020-11-14T09:44:22.423332Z",
          "iopub.status.idle": "2020-11-14T09:44:22.683495Z",
          "shell.execute_reply": "2020-11-14T09:44:22.682857Z"
        },
        "papermill": {
          "duration": 0.361046,
          "end_time": "2020-11-14T09:44:22.683637",
          "exception": false,
          "start_time": "2020-11-14T09:44:22.322591",
          "status": "completed"
        },
        "tags": [],
        "colab": {
          "base_uri": "https://localhost:8080/",
          "height": 542
        },
        "id": "qsGg-xze1bxa",
        "outputId": "e4b5f109-3ace-43eb-af82-96755db3210c"
      },
      "outputs": [
        {
          "output_type": "display_data",
          "data": {
            "text/plain": [
              "<Figure size 800x600 with 1 Axes>"
            ],
            "image/png": "[encoded data removed]"
          },
          "metadata": {}
        }
      ],
      "source": [
        "# distribution of the estimated_salary for exit\n",
        "pyplot.figure(figsize=(8,6))\n",
        "pyplot.xlabel('estimated_salary')\n",
        "pyplot.hist(not_exit[\"estimated_salary\"],bins=15, alpha=0.7, label='Not exit')\n",
        "pyplot.legend(loc='upper right')\n",
        "pyplot.show()"
      ]
    },
    {
      "cell_type": "code",
      "execution_count": 117,
      "metadata": {
        "execution": {
          "iopub.execute_input": "2020-11-14T09:44:23.198752Z",
          "iopub.status.busy": "2020-11-14T09:44:23.085453Z",
          "iopub.status.idle": "2020-11-14T09:44:23.452113Z",
          "shell.execute_reply": "2020-11-14T09:44:23.452688Z"
        },
        "papermill": {
          "duration": 0.470381,
          "end_time": "2020-11-14T09:44:23.452859",
          "exception": false,
          "start_time": "2020-11-14T09:44:22.982478",
          "status": "completed"
        },
        "tags": [],
        "colab": {
          "base_uri": "https://localhost:8080/",
          "height": 542
        },
        "id": "YKg9M2tp1bxb",
        "outputId": "0d11f26d-275b-46d7-887e-40cee4bfd1d8"
      },
      "outputs": [
        {
          "output_type": "display_data",
          "data": {
            "text/plain": [
              "<Figure size 800x600 with 1 Axes>"
            ],
            "image/png": "[encoded data removed]"
          },
          "metadata": {}
        }
      ],
      "source": [
        "# distribution of the estimated_salary for exit\n",
        "pyplot.figure(figsize=(8,6))\n",
        "pyplot.xlabel('estimated_salary')\n",
        "pyplot.hist(exit[\"estimated_salary\"],bins=15, alpha=0.7, label='exit')\n",
        "pyplot.legend(loc='upper right')\n",
        "pyplot.show()"
      ]
    },
    {
      "cell_type": "code",
      "execution_count": 118,
      "metadata": {
        "execution": {
          "iopub.execute_input": "2020-11-14T09:44:17.461838Z",
          "iopub.status.busy": "2020-11-14T09:44:17.460786Z",
          "iopub.status.idle": "2020-11-14T09:44:17.879844Z",
          "shell.execute_reply": "2020-11-14T09:44:17.880490Z"
        },
        "papermill": {
          "duration": 0.503064,
          "end_time": "2020-11-14T09:44:17.880658",
          "exception": false,
          "start_time": "2020-11-14T09:44:17.377594",
          "status": "completed"
        },
        "tags": [],
        "colab": {
          "base_uri": "https://localhost:8080/",
          "height": 524
        },
        "id": "HI0aWM--1bxb",
        "outputId": "c6ca24fb-a3fc-4de0-d26c-715f7e6a879d"
      },
      "outputs": [
        {
          "output_type": "execute_result",
          "data": {
            "text/plain": [
              "<seaborn.axisgrid.FacetGrid at 0x7adfe4537110>"
            ]
          },
          "metadata": {},
          "execution_count": 118
        },
        {
          "output_type": "display_data",
          "data": {
            "text/plain": [
              "<Figure size 511.111x500 with 1 Axes>"
            ],
            "image/png": "[encoded data removed]"
          },
          "metadata": {}
        }
      ],
      "source": [
        "sns.catplot(x = \"churn\", y = \"credit_score\", data = df)"
      ]
    },
    {
      "cell_type": "code",
      "execution_count": 119,
      "metadata": {
        "execution": {
          "iopub.execute_input": "2020-11-14T09:44:19.437304Z",
          "iopub.status.busy": "2020-11-14T09:44:19.431717Z",
          "iopub.status.idle": "2020-11-14T09:44:19.844994Z",
          "shell.execute_reply": "2020-11-14T09:44:19.845540Z"
        },
        "papermill": {
          "duration": 0.50303,
          "end_time": "2020-11-14T09:44:19.845723",
          "exception": false,
          "start_time": "2020-11-14T09:44:19.342693",
          "status": "completed"
        },
        "tags": [],
        "colab": {
          "base_uri": "https://localhost:8080/",
          "height": 523
        },
        "id": "DjXXW2m11bxb",
        "outputId": "fab0a4d8-66a3-474b-e778-26c9598ea821"
      },
      "outputs": [
        {
          "output_type": "execute_result",
          "data": {
            "text/plain": [
              "<seaborn.axisgrid.FacetGrid at 0x7adfcef71850>"
            ]
          },
          "metadata": {},
          "execution_count": 119
        },
        {
          "output_type": "display_data",
          "data": {
            "text/plain": [
              "<Figure size 511.111x500 with 1 Axes>"
            ],
            "image/png": "[encoded data removed]"
          },
          "metadata": {}
        }
      ],
      "source": [
        "sns.catplot(x = \"churn\",y =  \"age\", data = df)"
      ]
    },
    {
      "cell_type": "code",
      "execution_count": 120,
      "metadata": {
        "execution": {
          "iopub.execute_input": "2020-11-14T09:44:21.449955Z",
          "iopub.status.busy": "2020-11-14T09:44:21.434482Z",
          "iopub.status.idle": "2020-11-14T09:44:21.841408Z",
          "shell.execute_reply": "2020-11-14T09:44:21.840790Z"
        },
        "papermill": {
          "duration": 0.50246,
          "end_time": "2020-11-14T09:44:21.841526",
          "exception": false,
          "start_time": "2020-11-14T09:44:21.339066",
          "status": "completed"
        },
        "tags": [],
        "colab": {
          "base_uri": "https://localhost:8080/",
          "height": 523
        },
        "id": "M5efevIE1bxb",
        "outputId": "d7d72f0c-8dd9-4075-b020-73fc3f5b1885"
      },
      "outputs": [
        {
          "output_type": "execute_result",
          "data": {
            "text/plain": [
              "<seaborn.axisgrid.FacetGrid at 0x7adfe4956d10>"
            ]
          },
          "metadata": {},
          "execution_count": 120
        },
        {
          "output_type": "display_data",
          "data": {
            "text/plain": [
              "<Figure size 511.111x500 with 1 Axes>"
            ],
            "image/png": "[encoded data removed]"
          },
          "metadata": {}
        }
      ],
      "source": [
        "sns.catplot(x = \"churn\",y = \"balance\", data = df)"
      ]
    },
    {
      "cell_type": "code",
      "execution_count": 121,
      "metadata": {
        "execution": {
          "iopub.execute_input": "2020-11-14T09:44:23.654632Z",
          "iopub.status.busy": "2020-11-14T09:44:23.649512Z",
          "iopub.status.idle": "2020-11-14T09:44:24.088804Z",
          "shell.execute_reply": "2020-11-14T09:44:24.088025Z"
        },
        "papermill": {
          "duration": 0.53994,
          "end_time": "2020-11-14T09:44:24.088930",
          "exception": false,
          "start_time": "2020-11-14T09:44:23.548990",
          "status": "completed"
        },
        "tags": [],
        "colab": {
          "base_uri": "https://localhost:8080/",
          "height": 523
        },
        "id": "SLhvB3cn1bxb",
        "outputId": "04cb6597-cdc8-478a-c89d-16de5218a684"
      },
      "outputs": [
        {
          "output_type": "execute_result",
          "data": {
            "text/plain": [
              "<seaborn.axisgrid.FacetGrid at 0x7adfe8da7c10>"
            ]
          },
          "metadata": {},
          "execution_count": 121
        },
        {
          "output_type": "display_data",
          "data": {
            "text/plain": [
              "<Figure size 511.111x500 with 1 Axes>"
            ],
            "image/png": "[encoded data removed]"
          },
          "metadata": {}
        }
      ],
      "source": [
        "sns.catplot(x = \"churn\",y = \"estimated_salary\", data = df)"
      ]
    },
    {
      "cell_type": "code",
      "execution_count": 123,
      "metadata": {
        "execution": {
          "iopub.execute_input": "2020-11-14T09:44:24.496576Z",
          "iopub.status.busy": "2020-11-14T09:44:24.493881Z",
          "iopub.status.idle": "2020-11-14T09:44:25.205046Z",
          "shell.execute_reply": "2020-11-14T09:44:25.205637Z"
        },
        "papermill": {
          "duration": 0.817789,
          "end_time": "2020-11-14T09:44:25.205791",
          "exception": false,
          "start_time": "2020-11-14T09:44:24.388002",
          "status": "completed"
        },
        "tags": [],
        "colab": {
          "base_uri": "https://localhost:8080/",
          "height": 496
        },
        "id": "MwOnc06p1bxb",
        "outputId": "6a7ffc72-d1e8-43bf-f9ab-eb93f9878571"
      },
      "outputs": [
        {
          "output_type": "display_data",
          "data": {
            "text/plain": [
              "<Figure size 1000x600 with 2 Axes>"
            ],
            "image/png": "[encoded data removed]"
          },
          "metadata": {}
        }
      ],
      "source": [
        "# churn correlation matrix\n",
        "def plot_correlation_heatmap(df, k):\n",
        "    numeric_df = df.select_dtypes(include = np.number)\n",
        "    cols = numeric_df.corr().nlargest(k, 'churn')['churn'].index\n",
        "    cm = numeric_df[cols].corr()\n",
        "    plt.figure(figsize=(10, 6))\n",
        "    sns.heatmap(cm, annot=True, cmap='viridis')\n",
        "\n",
        "\n",
        "plot_correlation_heatmap(df, 10)"
      ]
    },
    {
      "cell_type": "markdown",
      "metadata": {
        "papermill": {
          "duration": 0.102829,
          "end_time": "2020-11-14T09:44:25.413781",
          "exception": false,
          "start_time": "2020-11-14T09:44:25.310952",
          "status": "completed"
        },
        "tags": [],
        "id": "4-KP6kk71bxb"
      },
      "source": [
        "# Data Preprocessing"
      ]
    },
    {
      "cell_type": "code",
      "execution_count": 124,
      "metadata": {
        "execution": {
          "iopub.execute_input": "2020-11-14T09:44:25.836856Z",
          "iopub.status.busy": "2020-11-14T09:44:25.836047Z",
          "iopub.status.idle": "2020-11-14T09:44:25.843113Z",
          "shell.execute_reply": "2020-11-14T09:44:25.842409Z"
        },
        "papermill": {
          "duration": 0.119432,
          "end_time": "2020-11-14T09:44:25.843250",
          "exception": false,
          "start_time": "2020-11-14T09:44:25.723818",
          "status": "completed"
        },
        "tags": [],
        "colab": {
          "base_uri": "https://localhost:8080/",
          "height": 460
        },
        "id": "oT3WJWVm1bxb",
        "outputId": "07a080bd-2ccd-42d0-a255-2475a32be336"
      },
      "outputs": [
        {
          "output_type": "execute_result",
          "data": {
            "text/plain": [
              "customer_id         0\n",
              "credit_score        0\n",
              "country             0\n",
              "gender              0\n",
              "age                 0\n",
              "tenure              0\n",
              "balance             0\n",
              "products_number     0\n",
              "credit_card         0\n",
              "active_member       0\n",
              "estimated_salary    0\n",
              "churn               0\n",
              "dtype: int64"
            ],
            "text/html": [
              "<div>\n",
              "<style scoped>\n",
              "    .dataframe tbody tr th:only-of-type {\n",
              "        vertical-align: middle;\n",
              "    }\n",
              "\n",
              "    .dataframe tbody tr th {\n",
              "        vertical-align: top;\n",
              "    }\n",
              "\n",
              "    .dataframe thead th {\n",
              "        text-align: right;\n",
              "    }\n",
              "</style>\n",
              "<table border=\"1\" class=\"dataframe\">\n",
              "  <thead>\n",
              "    <tr style=\"text-align: right;\">\n",
              "      <th></th>\n",
              "      <th>0</th>\n",
              "    </tr>\n",
              "  </thead>\n",
              "  <tbody>\n",
              "    <tr>\n",
              "      <th>customer_id</th>\n",
              "      <td>0</td>\n",
              "    </tr>\n",
              "    <tr>\n",
              "      <th>credit_score</th>\n",
              "      <td>0</td>\n",
              "    </tr>\n",
              "    <tr>\n",
              "      <th>country</th>\n",
              "      <td>0</td>\n",
              "    </tr>\n",
              "    <tr>\n",
              "      <th>gender</th>\n",
              "      <td>0</td>\n",
              "    </tr>\n",
              "    <tr>\n",
              "      <th>age</th>\n",
              "      <td>0</td>\n",
              "    </tr>\n",
              "    <tr>\n",
              "      <th>tenure</th>\n",
              "      <td>0</td>\n",
              "    </tr>\n",
              "    <tr>\n",
              "      <th>balance</th>\n",
              "      <td>0</td>\n",
              "    </tr>\n",
              "    <tr>\n",
              "      <th>products_number</th>\n",
              "      <td>0</td>\n",
              "    </tr>\n",
              "    <tr>\n",
              "      <th>credit_card</th>\n",
              "      <td>0</td>\n",
              "    </tr>\n",
              "    <tr>\n",
              "      <th>active_member</th>\n",
              "      <td>0</td>\n",
              "    </tr>\n",
              "    <tr>\n",
              "      <th>estimated_salary</th>\n",
              "      <td>0</td>\n",
              "    </tr>\n",
              "    <tr>\n",
              "      <th>churn</th>\n",
              "      <td>0</td>\n",
              "    </tr>\n",
              "  </tbody>\n",
              "</table>\n",
              "</div><br><label><b>dtype:</b> int64</label>"
            ]
          },
          "metadata": {},
          "execution_count": 124
        }
      ],
      "source": [
        "df.isnull().sum()"
      ]
    },
    {
      "cell_type": "markdown",
      "metadata": {
        "id": "wsQ48ko91bxc"
      },
      "source": [
        "There are no missing values in this dataset"
      ]
    },
    {
      "cell_type": "code",
      "execution_count": 125,
      "metadata": {
        "execution": {
          "iopub.execute_input": "2020-11-14T09:44:26.712981Z",
          "iopub.status.busy": "2020-11-14T09:44:26.712177Z",
          "iopub.status.idle": "2020-11-14T09:44:26.731180Z",
          "shell.execute_reply": "2020-11-14T09:44:26.730473Z"
        },
        "papermill": {
          "duration": 0.130791,
          "end_time": "2020-11-14T09:44:26.731304",
          "exception": false,
          "start_time": "2020-11-14T09:44:26.600513",
          "status": "completed"
        },
        "tags": [],
        "colab": {
          "base_uri": "https://localhost:8080/"
        },
        "id": "_HQEulwf1bxc",
        "outputId": "26511616-7aee-4300-dbed-4569f4364c0b"
      },
      "outputs": [
        {
          "output_type": "stream",
          "name": "stdout",
          "text": [
            "No outliers\n",
            "No outliers\n",
            "No outliers\n",
            "No outliers\n"
          ]
        }
      ],
      "source": [
        "for var in numeric_variables:\n",
        "    low_quantile = 0.05\n",
        "    up_quantile = 0.95\n",
        "    for col in [var]:\n",
        "        quantile_one = df[col].quantile(low_quantile)\n",
        "        quantile_three = df[col].quantile(up_quantile)\n",
        "        interquantile_range = quantile_three - quantile_one\n",
        "        up_limit = quantile_three + 1.5 * interquantile_range\n",
        "        low_limit = quantile_one - 1.5 * interquantile_range\n",
        "\n",
        "        outliers = (df[col] > up_limit) | (df[col] < low_limit)\n",
        "        number_of_outliers = outliers.sum()\n",
        "        if number_of_outliers > 0:\n",
        "            print(col, \":\", number_of_outliers, \"outliers\")\n",
        "        else:\n",
        "            print('No outliers')\n",
        "\n",
        ""
      ]
    },
    {
      "cell_type": "markdown",
      "metadata": {
        "id": "6DqKoZ6T1bxc"
      },
      "source": [
        "There are no outliers in this dataset"
      ]
    },
    {
      "cell_type": "code",
      "execution_count": 126,
      "metadata": {
        "execution": {
          "iopub.execute_input": "2020-11-14T09:44:27.862232Z",
          "iopub.status.busy": "2020-11-14T09:44:27.858529Z",
          "iopub.status.idle": "2020-11-14T09:44:27.872044Z",
          "shell.execute_reply": "2020-11-14T09:44:27.871265Z"
        },
        "papermill": {
          "duration": 0.129865,
          "end_time": "2020-11-14T09:44:27.872191",
          "exception": false,
          "start_time": "2020-11-14T09:44:27.742326",
          "status": "completed"
        },
        "tags": [],
        "id": "ICDYn_Lh1bxc"
      },
      "outputs": [],
      "source": [
        "# Variables to apply one hot encoding\n",
        "list = [\"gender\", \"country\"]\n",
        "df = pd.get_dummies(df, columns =list, drop_first = True)"
      ]
    },
    {
      "cell_type": "code",
      "execution_count": 127,
      "metadata": {
        "execution": {
          "iopub.execute_input": "2020-11-14T09:44:28.108849Z",
          "iopub.status.busy": "2020-11-14T09:44:28.107978Z",
          "iopub.status.idle": "2020-11-14T09:44:28.113272Z",
          "shell.execute_reply": "2020-11-14T09:44:28.112543Z"
        },
        "papermill": {
          "duration": 0.134679,
          "end_time": "2020-11-14T09:44:28.113404",
          "exception": false,
          "start_time": "2020-11-14T09:44:27.978725",
          "status": "completed"
        },
        "tags": [],
        "colab": {
          "base_uri": "https://localhost:8080/",
          "height": 226
        },
        "id": "kOTwxP0o1bxc",
        "outputId": "43b33b17-4297-42d2-b68f-3e8ceff57e99"
      },
      "outputs": [
        {
          "output_type": "execute_result",
          "data": {
            "text/plain": [
              "   customer_id  credit_score  age  tenure    balance  products_number  \\\n",
              "0     15634602           619   42       2       0.00                1   \n",
              "1     15647311           608   41       1   83807.86                1   \n",
              "2     15619304           502   42       8  159660.80                3   \n",
              "3     15701354           699   39       1       0.00                2   \n",
              "4     15737888           850   43       2  125510.82                1   \n",
              "\n",
              "   credit_card  active_member  estimated_salary  churn  gender_Male  \\\n",
              "0            1              1         101348.88      1        False   \n",
              "1            0              1         112542.58      0        False   \n",
              "2            1              0         113931.57      1        False   \n",
              "3            0              0          93826.63      0        False   \n",
              "4            1              1          79084.10      0        False   \n",
              "\n",
              "   country_Germany  country_Spain  \n",
              "0            False          False  \n",
              "1            False           True  \n",
              "2            False          False  \n",
              "3            False          False  \n",
              "4            False           True  "
            ],
            "text/html": [
              "\n",
              "  <div id=\"df-27248c22-bff4-47fb-8065-078efbd3ff1b\" class=\"colab-df-container\">\n",
              "    <div>\n",
              "<style scoped>\n",
              "    .dataframe tbody tr th:only-of-type {\n",
              "        vertical-align: middle;\n",
              "    }\n",
              "\n",
              "    .dataframe tbody tr th {\n",
              "        vertical-align: top;\n",
              "    }\n",
              "\n",
              "    .dataframe thead th {\n",
              "        text-align: right;\n",
              "    }\n",
              "</style>\n",
              "<table border=\"1\" class=\"dataframe\">\n",
              "  <thead>\n",
              "    <tr style=\"text-align: right;\">\n",
              "      <th></th>\n",
              "      <th>customer_id</th>\n",
              "      <th>credit_score</th>\n",
              "      <th>age</th>\n",
              "      <th>tenure</th>\n",
              "      <th>balance</th>\n",
              "      <th>products_number</th>\n",
              "      <th>credit_card</th>\n",
              "      <th>active_member</th>\n",
              "      <th>estimated_salary</th>\n",
              "      <th>churn</th>\n",
              "      <th>gender_Male</th>\n",
              "      <th>country_Germany</th>\n",
              "      <th>country_Spain</th>\n",
              "    </tr>\n",
              "  </thead>\n",
              "  <tbody>\n",
              "    <tr>\n",
              "      <th>0</th>\n",
              "      <td>15634602</td>\n",
              "      <td>619</td>\n",
              "      <td>42</td>\n",
              "      <td>2</td>\n",
              "      <td>0.00</td>\n",
              "      <td>1</td>\n",
              "      <td>1</td>\n",
              "      <td>1</td>\n",
              "      <td>101348.88</td>\n",
              "      <td>1</td>\n",
              "      <td>False</td>\n",
              "      <td>False</td>\n",
              "      <td>False</td>\n",
              "    </tr>\n",
              "    <tr>\n",
              "      <th>1</th>\n",
              "      <td>15647311</td>\n",
              "      <td>608</td>\n",
              "      <td>41</td>\n",
              "      <td>1</td>\n",
              "      <td>83807.86</td>\n",
              "      <td>1</td>\n",
              "      <td>0</td>\n",
              "      <td>1</td>\n",
              "      <td>112542.58</td>\n",
              "      <td>0</td>\n",
              "      <td>False</td>\n",
              "      <td>False</td>\n",
              "      <td>True</td>\n",
              "    </tr>\n",
              "    <tr>\n",
              "      <th>2</th>\n",
              "      <td>15619304</td>\n",
              "      <td>502</td>\n",
              "      <td>42</td>\n",
              "      <td>8</td>\n",
              "      <td>159660.80</td>\n",
              "      <td>3</td>\n",
              "      <td>1</td>\n",
              "      <td>0</td>\n",
              "      <td>113931.57</td>\n",
              "      <td>1</td>\n",
              "      <td>False</td>\n",
              "      <td>False</td>\n",
              "      <td>False</td>\n",
              "    </tr>\n",
              "    <tr>\n",
              "      <th>3</th>\n",
              "      <td>15701354</td>\n",
              "      <td>699</td>\n",
              "      <td>39</td>\n",
              "      <td>1</td>\n",
              "      <td>0.00</td>\n",
              "      <td>2</td>\n",
              "      <td>0</td>\n",
              "      <td>0</td>\n",
              "      <td>93826.63</td>\n",
              "      <td>0</td>\n",
              "      <td>False</td>\n",
              "      <td>False</td>\n",
              "      <td>False</td>\n",
              "    </tr>\n",
              "    <tr>\n",
              "      <th>4</th>\n",
              "      <td>15737888</td>\n",
              "      <td>850</td>\n",
              "      <td>43</td>\n",
              "      <td>2</td>\n",
              "      <td>125510.82</td>\n",
              "      <td>1</td>\n",
              "      <td>1</td>\n",
              "      <td>1</td>\n",
              "      <td>79084.10</td>\n",
              "      <td>0</td>\n",
              "      <td>False</td>\n",
              "      <td>False</td>\n",
              "      <td>True</td>\n",
              "    </tr>\n",
              "  </tbody>\n",
              "</table>\n",
              "</div>\n",
              "    <div class=\"colab-df-buttons\">\n",
              "\n",
              "  <div class=\"colab-df-container\">\n",
              "    <button class=\"colab-df-convert\" onclick=\"convertToInteractive('df-27248c22-bff4-47fb-8065-078efbd3ff1b')\"\n",
              "            title=\"Convert this dataframe to an interactive table.\"\n",
              "            style=\"display:none;\">\n",
              "\n",
              "  <svg xmlns=\"http://www.w3.org/2000/svg\" height=\"24px\" viewBox=\"0 -960 960 960\">\n",
              "    <path d=\"M120-120v-720h720v720H120Zm60-500h600v-160H180v160Zm220 220h160v-160H400v160Zm0 220h160v-160H400v160ZM180-400h160v-160H180v160Zm440 0h160v-160H620v160ZM180-180h160v-160H180v160Zm440 0h160v-160H620v160Z\"/>\n",
              "  </svg>\n",
              "    </button>\n",
              "\n",
              "  <style>\n",
              "    .colab-df-container {\n",
              "      display:flex;\n",
              "      gap: 12px;\n",
              "    }\n",
              "\n",
              "    .colab-df-convert {\n",
              "      background-color: #E8F0FE;\n",
              "      border: none;\n",
              "      border-radius: 50%;\n",
              "      cursor: pointer;\n",
              "      display: none;\n",
              "      fill: #1967D2;\n",
              "      height: 32px;\n",
              "      padding: 0 0 0 0;\n",
              "      width: 32px;\n",
              "    }\n",
              "\n",
              "    .colab-df-convert:hover {\n",
              "      background-color: #E2EBFA;\n",
              "      box-shadow: 0px 1px 2px rgba(60, 64, 67, 0.3), 0px 1px 3px 1px rgba(60, 64, 67, 0.15);\n",
              "      fill: #174EA6;\n",
              "    }\n",
              "\n",
              "    .colab-df-buttons div {\n",
              "      margin-bottom: 4px;\n",
              "    }\n",
              "\n",
              "    [theme=dark] .colab-df-convert {\n",
              "      background-color: #3B4455;\n",
              "      fill: #D2E3FC;\n",
              "    }\n",
              "\n",
              "    [theme=dark] .colab-df-convert:hover {\n",
              "      background-color: #434B5C;\n",
              "      box-shadow: 0px 1px 3px 1px rgba(0, 0, 0, 0.15);\n",
              "      filter: drop-shadow(0px 1px 2px rgba(0, 0, 0, 0.3));\n",
              "      fill: #FFFFFF;\n",
              "    }\n",
              "  </style>\n",
              "\n",
              "    <script>\n",
              "      const buttonEl =\n",
              "        document.querySelector('#df-27248c22-bff4-47fb-8065-078efbd3ff1b button.colab-df-convert');\n",
              "      buttonEl.style.display =\n",
              "        google.colab.kernel.accessAllowed ? 'block' : 'none';\n",
              "\n",
              "      async function convertToInteractive(key) {\n",
              "        const element = document.querySelector('#df-27248c22-bff4-47fb-8065-078efbd3ff1b');\n",
              "        const dataTable =\n",
              "          await google.colab.kernel.invokeFunction('convertToInteractive',\n",
              "                                                    [key], {});\n",
              "        if (!dataTable) return;\n",
              "\n",
              "        const docLinkHtml = 'Like what you see? Visit the ' +\n",
              "          '<a target=\"_blank\" href=https://colab.research.google.com/notebooks/data_table.ipynb>data table notebook</a>'\n",
              "          + ' to learn more about interactive tables.';\n",
              "        element.innerHTML = '';\n",
              "        dataTable['output_type'] = 'display_data';\n",
              "        await google.colab.output.renderOutput(dataTable, element);\n",
              "        const docLink = document.createElement('div');\n",
              "        docLink.innerHTML = docLinkHtml;\n",
              "        element.appendChild(docLink);\n",
              "      }\n",
              "    </script>\n",
              "  </div>\n",
              "\n",
              "\n",
              "<div id=\"df-b6c1a988-d24f-4e3c-bf23-431c8a554339\">\n",
              "  <button class=\"colab-df-quickchart\" onclick=\"quickchart('df-b6c1a988-d24f-4e3c-bf23-431c8a554339')\"\n",
              "            title=\"Suggest charts\"\n",
              "            style=\"display:none;\">\n",
              "\n",
              "<svg xmlns=\"http://www.w3.org/2000/svg\" height=\"24px\"viewBox=\"0 0 24 24\"\n",
              "     width=\"24px\">\n",
              "    <g>\n",
              "        <path d=\"M19 3H5c-1.1 0-2 .9-2 2v14c0 1.1.9 2 2 2h14c1.1 0 2-.9 2-2V5c0-1.1-.9-2-2-2zM9 17H7v-7h2v7zm4 0h-2V7h2v10zm4 0h-2v-4h2v4z\"/>\n",
              "    </g>\n",
              "</svg>\n",
              "  </button>\n",
              "\n",
              "<style>\n",
              "  .colab-df-quickchart {\n",
              "      --bg-color: #E8F0FE;\n",
              "      --fill-color: #1967D2;\n",
              "      --hover-bg-color: #E2EBFA;\n",
              "      --hover-fill-color: #174EA6;\n",
              "      --disabled-fill-color: #AAA;\n",
              "      --disabled-bg-color: #DDD;\n",
              "  }\n",
              "\n",
              "  [theme=dark] .colab-df-quickchart {\n",
              "      --bg-color: #3B4455;\n",
              "      --fill-color: #D2E3FC;\n",
              "      --hover-bg-color: #434B5C;\n",
              "      --hover-fill-color: #FFFFFF;\n",
              "      --disabled-bg-color: #3B4455;\n",
              "      --disabled-fill-color: #666;\n",
              "  }\n",
              "\n",
              "  .colab-df-quickchart {\n",
              "    background-color: var(--bg-color);\n",
              "    border: none;\n",
              "    border-radius: 50%;\n",
              "    cursor: pointer;\n",
              "    display: none;\n",
              "    fill: var(--fill-color);\n",
              "    height: 32px;\n",
              "    padding: 0;\n",
              "    width: 32px;\n",
              "  }\n",
              "\n",
              "  .colab-df-quickchart:hover {\n",
              "    background-color: var(--hover-bg-color);\n",
              "    box-shadow: 0 1px 2px rgba(60, 64, 67, 0.3), 0 1px 3px 1px rgba(60, 64, 67, 0.15);\n",
              "    fill: var(--button-hover-fill-color);\n",
              "  }\n",
              "\n",
              "  .colab-df-quickchart-complete:disabled,\n",
              "  .colab-df-quickchart-complete:disabled:hover {\n",
              "    background-color: var(--disabled-bg-color);\n",
              "    fill: var(--disabled-fill-color);\n",
              "    box-shadow: none;\n",
              "  }\n",
              "\n",
              "  .colab-df-spinner {\n",
              "    border: 2px solid var(--fill-color);\n",
              "    border-color: transparent;\n",
              "    border-bottom-color: var(--fill-color);\n",
              "    animation:\n",
              "      spin 1s steps(1) infinite;\n",
              "  }\n",
              "\n",
              "  @keyframes spin {\n",
              "    0% {\n",
              "      border-color: transparent;\n",
              "      border-bottom-color: var(--fill-color);\n",
              "      border-left-color: var(--fill-color);\n",
              "    }\n",
              "    20% {\n",
              "      border-color: transparent;\n",
              "      border-left-color: var(--fill-color);\n",
              "      border-top-color: var(--fill-color);\n",
              "    }\n",
              "    30% {\n",
              "      border-color: transparent;\n",
              "      border-left-color: var(--fill-color);\n",
              "      border-top-color: var(--fill-color);\n",
              "      border-right-color: var(--fill-color);\n",
              "    }\n",
              "    40% {\n",
              "      border-color: transparent;\n",
              "      border-right-color: var(--fill-color);\n",
              "      border-top-color: var(--fill-color);\n",
              "    }\n",
              "    60% {\n",
              "      border-color: transparent;\n",
              "      border-right-color: var(--fill-color);\n",
              "    }\n",
              "    80% {\n",
              "      border-color: transparent;\n",
              "      border-right-color: var(--fill-color);\n",
              "      border-bottom-color: var(--fill-color);\n",
              "    }\n",
              "    90% {\n",
              "      border-color: transparent;\n",
              "      border-bottom-color: var(--fill-color);\n",
              "    }\n",
              "  }\n",
              "</style>\n",
              "\n",
              "  <script>\n",
              "    async function quickchart(key) {\n",
              "      const quickchartButtonEl =\n",
              "        document.querySelector('#' + key + ' button');\n",
              "      quickchartButtonEl.disabled = true;  // To prevent multiple clicks.\n",
              "      quickchartButtonEl.classList.add('colab-df-spinner');\n",
              "      try {\n",
              "        const charts = await google.colab.kernel.invokeFunction(\n",
              "            'suggestCharts', [key], {});\n",
              "      } catch (error) {\n",
              "        console.error('Error during call to suggestCharts:', error);\n",
              "      }\n",
              "      quickchartButtonEl.classList.remove('colab-df-spinner');\n",
              "      quickchartButtonEl.classList.add('colab-df-quickchart-complete');\n",
              "    }\n",
              "    (() => {\n",
              "      let quickchartButtonEl =\n",
              "        document.querySelector('#df-b6c1a988-d24f-4e3c-bf23-431c8a554339 button');\n",
              "      quickchartButtonEl.style.display =\n",
              "        google.colab.kernel.accessAllowed ? 'block' : 'none';\n",
              "    })();\n",
              "  </script>\n",
              "</div>\n",
              "\n",
              "    </div>\n",
              "  </div>\n"
            ],
            "application/vnd.google.colaboratory.intrinsic+json": {
              "type": "dataframe",
              "variable_name": "df",
              "summary": "{\n  \"name\": \"df\",\n  \"rows\": 10000,\n  \"fields\": [\n    {\n      \"column\": \"customer_id\",\n      \"properties\": {\n        \"dtype\": \"number\",\n        \"std\": 71936,\n        \"min\": 15565701,\n        \"max\": 15815690,\n        \"num_unique_values\": 10000,\n        \"samples\": [\n          15687492,\n          15736963,\n          15721730\n        ],\n        \"semantic_type\": \"\",\n        \"description\": \"\"\n      }\n    },\n    {\n      \"column\": \"credit_score\",\n      \"properties\": {\n        \"dtype\": \"number\",\n        \"std\": 96,\n        \"min\": 350,\n        \"max\": 850,\n        \"num_unique_values\": 460,\n        \"samples\": [\n          754,\n          533,\n          744\n        ],\n        \"semantic_type\": \"\",\n        \"description\": \"\"\n      }\n    },\n    {\n      \"column\": \"age\",\n      \"properties\": {\n        \"dtype\": \"number\",\n        \"std\": 10,\n        \"min\": 18,\n        \"max\": 92,\n        \"num_unique_values\": 70,\n        \"samples\": [\n          61,\n          42,\n          59\n        ],\n        \"semantic_type\": \"\",\n        \"description\": \"\"\n      }\n    },\n    {\n      \"column\": \"tenure\",\n      \"properties\": {\n        \"dtype\": \"number\",\n        \"std\": 2,\n        \"min\": 0,\n        \"max\": 10,\n        \"num_unique_values\": 11,\n        \"samples\": [\n          6,\n          2,\n          9\n        ],\n        \"semantic_type\": \"\",\n        \"description\": \"\"\n      }\n    },\n    {\n      \"column\": \"balance\",\n      \"properties\": {\n        \"dtype\": \"number\",\n        \"std\": 62397.40520238623,\n        \"min\": 0.0,\n        \"max\": 250898.09,\n        \"num_unique_values\": 6382,\n        \"samples\": [\n          117707.18,\n          133050.97,\n          124271.26\n        ],\n        \"semantic_type\": \"\",\n        \"description\": \"\"\n      }\n    },\n    {\n      \"column\": \"products_number\",\n      \"properties\": {\n        \"dtype\": \"number\",\n        \"std\": 0,\n        \"min\": 1,\n        \"max\": 4,\n        \"num_unique_values\": 4,\n        \"samples\": [\n          3,\n          4,\n          1\n        ],\n        \"semantic_type\": \"\",\n        \"description\": \"\"\n      }\n    },\n    {\n      \"column\": \"credit_card\",\n      \"properties\": {\n        \"dtype\": \"number\",\n        \"std\": 0,\n        \"min\": 0,\n        \"max\": 1,\n        \"num_unique_values\": 2,\n        \"samples\": [\n          0,\n          1\n        ],\n        \"semantic_type\": \"\",\n        \"description\": \"\"\n      }\n    },\n    {\n      \"column\": \"active_member\",\n      \"properties\": {\n        \"dtype\": \"number\",\n        \"std\": 0,\n        \"min\": 0,\n        \"max\": 1,\n        \"num_unique_values\": 2,\n        \"samples\": [\n          0,\n          1\n        ],\n        \"semantic_type\": \"\",\n        \"description\": \"\"\n      }\n    },\n    {\n      \"column\": \"estimated_salary\",\n      \"properties\": {\n        \"dtype\": \"number\",\n        \"std\": 57510.49281769822,\n        \"min\": 11.58,\n        \"max\": 199992.48,\n        \"num_unique_values\": 9999,\n        \"samples\": [\n          100809.99,\n          95273.73\n        ],\n        \"semantic_type\": \"\",\n        \"description\": \"\"\n      }\n    },\n    {\n      \"column\": \"churn\",\n      \"properties\": {\n        \"dtype\": \"number\",\n        \"std\": 0,\n        \"min\": 0,\n        \"max\": 1,\n        \"num_unique_values\": 2,\n        \"samples\": [\n          0,\n          1\n        ],\n        \"semantic_type\": \"\",\n        \"description\": \"\"\n      }\n    },\n    {\n      \"column\": \"gender_Male\",\n      \"properties\": {\n        \"dtype\": \"boolean\",\n        \"num_unique_values\": 2,\n        \"samples\": [\n          true,\n          false\n        ],\n        \"semantic_type\": \"\",\n        \"description\": \"\"\n      }\n    },\n    {\n      \"column\": \"country_Germany\",\n      \"properties\": {\n        \"dtype\": \"boolean\",\n        \"num_unique_values\": 2,\n        \"samples\": [\n          true,\n          false\n        ],\n        \"semantic_type\": \"\",\n        \"description\": \"\"\n      }\n    },\n    {\n      \"column\": \"country_Spain\",\n      \"properties\": {\n        \"dtype\": \"boolean\",\n        \"num_unique_values\": 2,\n        \"samples\": [\n          true,\n          false\n        ],\n        \"semantic_type\": \"\",\n        \"description\": \"\"\n      }\n    }\n  ]\n}"
            }
          },
          "metadata": {},
          "execution_count": 127
        }
      ],
      "source": [
        "df.head()"
      ]
    },
    {
      "cell_type": "markdown",
      "metadata": {
        "papermill": {
          "duration": 0.106793,
          "end_time": "2020-11-14T09:44:28.329300",
          "exception": false,
          "start_time": "2020-11-14T09:44:28.222507",
          "status": "completed"
        },
        "tags": [],
        "id": "SdfOBrDg1bxc"
      },
      "source": [
        "# Scalling"
      ]
    },
    {
      "cell_type": "code",
      "execution_count": 128,
      "metadata": {
        "execution": {
          "iopub.execute_input": "2020-11-14T09:44:28.551876Z",
          "iopub.status.busy": "2020-11-14T09:44:28.550736Z",
          "iopub.status.idle": "2020-11-14T09:44:28.556519Z",
          "shell.execute_reply": "2020-11-14T09:44:28.555883Z"
        },
        "papermill": {
          "duration": 0.120164,
          "end_time": "2020-11-14T09:44:28.556652",
          "exception": false,
          "start_time": "2020-11-14T09:44:28.436488",
          "status": "completed"
        },
        "tags": [],
        "id": "XIg3DK1x1bxc"
      },
      "outputs": [],
      "source": [
        "df = df.drop([\"customer_id\"], axis = 1)"
      ]
    },
    {
      "cell_type": "code",
      "execution_count": 129,
      "metadata": {
        "colab": {
          "base_uri": "https://localhost:8080/",
          "height": 383
        },
        "id": "UZ9jeHYM1bxd",
        "outputId": "3306bdb1-ea83-482e-c76a-fb9dd5aae13f"
      },
      "outputs": [
        {
          "output_type": "execute_result",
          "data": {
            "text/plain": [
              "      credit_score  age  tenure    balance  products_number  credit_card  \\\n",
              "8558           574   39       5  119013.86                1            1   \n",
              "6586           643   33       7   98630.31                2            1   \n",
              "3740           649   45       7       0.00                2            0   \n",
              "4839           531   53       5  127642.44                1            1   \n",
              "2296           749   47       9  110022.74                1            0   \n",
              "4750           850   35       5       0.00                1            1   \n",
              "7636           517   59       8  154110.99                2            1   \n",
              "2668           524   52       2   87894.26                1            1   \n",
              "5371           712   33       3  153819.58                1            1   \n",
              "6531           518   45       8       0.00                2            1   \n",
              "\n",
              "      active_member  estimated_salary  churn  gender_Male  country_Germany  \\\n",
              "8558              0         103421.91      0        False            False   \n",
              "6586              1          40250.82      0         True             True   \n",
              "3740              1          75204.21      0         True            False   \n",
              "4839              0         141501.45      1        False            False   \n",
              "2296              1         135655.29      1         True             True   \n",
              "4750              1          80992.80      0        False            False   \n",
              "7636              0         101240.08      1        False             True   \n",
              "2668              0         173899.42      1         True            False   \n",
              "5371              0          79176.09      1         True            False   \n",
              "6531              1          36193.07      0        False            False   \n",
              "\n",
              "      country_Spain  \n",
              "8558          False  \n",
              "6586          False  \n",
              "3740          False  \n",
              "4839          False  \n",
              "2296          False  \n",
              "4750          False  \n",
              "7636          False  \n",
              "2668          False  \n",
              "5371          False  \n",
              "6531          False  "
            ],
            "text/html": [
              "\n",
              "  <div id=\"df-5a51f067-80cc-4e3f-860f-66c6cb5fb814\" class=\"colab-df-container\">\n",
              "    <div>\n",
              "<style scoped>\n",
              "    .dataframe tbody tr th:only-of-type {\n",
              "        vertical-align: middle;\n",
              "    }\n",
              "\n",
              "    .dataframe tbody tr th {\n",
              "        vertical-align: top;\n",
              "    }\n",
              "\n",
              "    .dataframe thead th {\n",
              "        text-align: right;\n",
              "    }\n",
              "</style>\n",
              "<table border=\"1\" class=\"dataframe\">\n",
              "  <thead>\n",
              "    <tr style=\"text-align: right;\">\n",
              "      <th></th>\n",
              "      <th>credit_score</th>\n",
              "      <th>age</th>\n",
              "      <th>tenure</th>\n",
              "      <th>balance</th>\n",
              "      <th>products_number</th>\n",
              "      <th>credit_card</th>\n",
              "      <th>active_member</th>\n",
              "      <th>estimated_salary</th>\n",
              "      <th>churn</th>\n",
              "      <th>gender_Male</th>\n",
              "      <th>country_Germany</th>\n",
              "      <th>country_Spain</th>\n",
              "    </tr>\n",
              "  </thead>\n",
              "  <tbody>\n",
              "    <tr>\n",
              "      <th>8558</th>\n",
              "      <td>574</td>\n",
              "      <td>39</td>\n",
              "      <td>5</td>\n",
              "      <td>119013.86</td>\n",
              "      <td>1</td>\n",
              "      <td>1</td>\n",
              "      <td>0</td>\n",
              "      <td>103421.91</td>\n",
              "      <td>0</td>\n",
              "      <td>False</td>\n",
              "      <td>False</td>\n",
              "      <td>False</td>\n",
              "    </tr>\n",
              "    <tr>\n",
              "      <th>6586</th>\n",
              "      <td>643</td>\n",
              "      <td>33</td>\n",
              "      <td>7</td>\n",
              "      <td>98630.31</td>\n",
              "      <td>2</td>\n",
              "      <td>1</td>\n",
              "      <td>1</td>\n",
              "      <td>40250.82</td>\n",
              "      <td>0</td>\n",
              "      <td>True</td>\n",
              "      <td>True</td>\n",
              "      <td>False</td>\n",
              "    </tr>\n",
              "    <tr>\n",
              "      <th>3740</th>\n",
              "      <td>649</td>\n",
              "      <td>45</td>\n",
              "      <td>7</td>\n",
              "      <td>0.00</td>\n",
              "      <td>2</td>\n",
              "      <td>0</td>\n",
              "      <td>1</td>\n",
              "      <td>75204.21</td>\n",
              "      <td>0</td>\n",
              "      <td>True</td>\n",
              "      <td>False</td>\n",
              "      <td>False</td>\n",
              "    </tr>\n",
              "    <tr>\n",
              "      <th>4839</th>\n",
              "      <td>531</td>\n",
              "      <td>53</td>\n",
              "      <td>5</td>\n",
              "      <td>127642.44</td>\n",
              "      <td>1</td>\n",
              "      <td>1</td>\n",
              "      <td>0</td>\n",
              "      <td>141501.45</td>\n",
              "      <td>1</td>\n",
              "      <td>False</td>\n",
              "      <td>False</td>\n",
              "      <td>False</td>\n",
              "    </tr>\n",
              "    <tr>\n",
              "      <th>2296</th>\n",
              "      <td>749</td>\n",
              "      <td>47</td>\n",
              "      <td>9</td>\n",
              "      <td>110022.74</td>\n",
              "      <td>1</td>\n",
              "      <td>0</td>\n",
              "      <td>1</td>\n",
              "      <td>135655.29</td>\n",
              "      <td>1</td>\n",
              "      <td>True</td>\n",
              "      <td>True</td>\n",
              "      <td>False</td>\n",
              "    </tr>\n",
              "    <tr>\n",
              "      <th>4750</th>\n",
              "      <td>850</td>\n",
              "      <td>35</td>\n",
              "      <td>5</td>\n",
              "      <td>0.00</td>\n",
              "      <td>1</td>\n",
              "      <td>1</td>\n",
              "      <td>1</td>\n",
              "      <td>80992.80</td>\n",
              "      <td>0</td>\n",
              "      <td>False</td>\n",
              "      <td>False</td>\n",
              "      <td>False</td>\n",
              "    </tr>\n",
              "    <tr>\n",
              "      <th>7636</th>\n",
              "      <td>517</td>\n",
              "      <td>59</td>\n",
              "      <td>8</td>\n",
              "      <td>154110.99</td>\n",
              "      <td>2</td>\n",
              "      <td>1</td>\n",
              "      <td>0</td>\n",
              "      <td>101240.08</td>\n",
              "      <td>1</td>\n",
              "      <td>False</td>\n",
              "      <td>True</td>\n",
              "      <td>False</td>\n",
              "    </tr>\n",
              "    <tr>\n",
              "      <th>2668</th>\n",
              "      <td>524</td>\n",
              "      <td>52</td>\n",
              "      <td>2</td>\n",
              "      <td>87894.26</td>\n",
              "      <td>1</td>\n",
              "      <td>1</td>\n",
              "      <td>0</td>\n",
              "      <td>173899.42</td>\n",
              "      <td>1</td>\n",
              "      <td>True</td>\n",
              "      <td>False</td>\n",
              "      <td>False</td>\n",
              "    </tr>\n",
              "    <tr>\n",
              "      <th>5371</th>\n",
              "      <td>712</td>\n",
              "      <td>33</td>\n",
              "      <td>3</td>\n",
              "      <td>153819.58</td>\n",
              "      <td>1</td>\n",
              "      <td>1</td>\n",
              "      <td>0</td>\n",
              "      <td>79176.09</td>\n",
              "      <td>1</td>\n",
              "      <td>True</td>\n",
              "      <td>False</td>\n",
              "      <td>False</td>\n",
              "    </tr>\n",
              "    <tr>\n",
              "      <th>6531</th>\n",
              "      <td>518</td>\n",
              "      <td>45</td>\n",
              "      <td>8</td>\n",
              "      <td>0.00</td>\n",
              "      <td>2</td>\n",
              "      <td>1</td>\n",
              "      <td>1</td>\n",
              "      <td>36193.07</td>\n",
              "      <td>0</td>\n",
              "      <td>False</td>\n",
              "      <td>False</td>\n",
              "      <td>False</td>\n",
              "    </tr>\n",
              "  </tbody>\n",
              "</table>\n",
              "</div>\n",
              "    <div class=\"colab-df-buttons\">\n",
              "\n",
              "  <div class=\"colab-df-container\">\n",
              "    <button class=\"colab-df-convert\" onclick=\"convertToInteractive('df-5a51f067-80cc-4e3f-860f-66c6cb5fb814')\"\n",
              "            title=\"Convert this dataframe to an interactive table.\"\n",
              "            style=\"display:none;\">\n",
              "\n",
              "  <svg xmlns=\"http://www.w3.org/2000/svg\" height=\"24px\" viewBox=\"0 -960 960 960\">\n",
              "    <path d=\"M120-120v-720h720v720H120Zm60-500h600v-160H180v160Zm220 220h160v-160H400v160Zm0 220h160v-160H400v160ZM180-400h160v-160H180v160Zm440 0h160v-160H620v160ZM180-180h160v-160H180v160Zm440 0h160v-160H620v160Z\"/>\n",
              "  </svg>\n",
              "    </button>\n",
              "\n",
              "  <style>\n",
              "    .colab-df-container {\n",
              "      display:flex;\n",
              "      gap: 12px;\n",
              "    }\n",
              "\n",
              "    .colab-df-convert {\n",
              "      background-color: #E8F0FE;\n",
              "      border: none;\n",
              "      border-radius: 50%;\n",
              "      cursor: pointer;\n",
              "      display: none;\n",
              "      fill: #1967D2;\n",
              "      height: 32px;\n",
              "      padding: 0 0 0 0;\n",
              "      width: 32px;\n",
              "    }\n",
              "\n",
              "    .colab-df-convert:hover {\n",
              "      background-color: #E2EBFA;\n",
              "      box-shadow: 0px 1px 2px rgba(60, 64, 67, 0.3), 0px 1px 3px 1px rgba(60, 64, 67, 0.15);\n",
              "      fill: #174EA6;\n",
              "    }\n",
              "\n",
              "    .colab-df-buttons div {\n",
              "      margin-bottom: 4px;\n",
              "    }\n",
              "\n",
              "    [theme=dark] .colab-df-convert {\n",
              "      background-color: #3B4455;\n",
              "      fill: #D2E3FC;\n",
              "    }\n",
              "\n",
              "    [theme=dark] .colab-df-convert:hover {\n",
              "      background-color: #434B5C;\n",
              "      box-shadow: 0px 1px 3px 1px rgba(0, 0, 0, 0.15);\n",
              "      filter: drop-shadow(0px 1px 2px rgba(0, 0, 0, 0.3));\n",
              "      fill: #FFFFFF;\n",
              "    }\n",
              "  </style>\n",
              "\n",
              "    <script>\n",
              "      const buttonEl =\n",
              "        document.querySelector('#df-5a51f067-80cc-4e3f-860f-66c6cb5fb814 button.colab-df-convert');\n",
              "      buttonEl.style.display =\n",
              "        google.colab.kernel.accessAllowed ? 'block' : 'none';\n",
              "\n",
              "      async function convertToInteractive(key) {\n",
              "        const element = document.querySelector('#df-5a51f067-80cc-4e3f-860f-66c6cb5fb814');\n",
              "        const dataTable =\n",
              "          await google.colab.kernel.invokeFunction('convertToInteractive',\n",
              "                                                    [key], {});\n",
              "        if (!dataTable) return;\n",
              "\n",
              "        const docLinkHtml = 'Like what you see? Visit the ' +\n",
              "          '<a target=\"_blank\" href=https://colab.research.google.com/notebooks/data_table.ipynb>data table notebook</a>'\n",
              "          + ' to learn more about interactive tables.';\n",
              "        element.innerHTML = '';\n",
              "        dataTable['output_type'] = 'display_data';\n",
              "        await google.colab.output.renderOutput(dataTable, element);\n",
              "        const docLink = document.createElement('div');\n",
              "        docLink.innerHTML = docLinkHtml;\n",
              "        element.appendChild(docLink);\n",
              "      }\n",
              "    </script>\n",
              "  </div>\n",
              "\n",
              "\n",
              "<div id=\"df-1ce75122-42d2-4ead-a26a-da5cc1f54cfa\">\n",
              "  <button class=\"colab-df-quickchart\" onclick=\"quickchart('df-1ce75122-42d2-4ead-a26a-da5cc1f54cfa')\"\n",
              "            title=\"Suggest charts\"\n",
              "            style=\"display:none;\">\n",
              "\n",
              "<svg xmlns=\"http://www.w3.org/2000/svg\" height=\"24px\"viewBox=\"0 0 24 24\"\n",
              "     width=\"24px\">\n",
              "    <g>\n",
              "        <path d=\"M19 3H5c-1.1 0-2 .9-2 2v14c0 1.1.9 2 2 2h14c1.1 0 2-.9 2-2V5c0-1.1-.9-2-2-2zM9 17H7v-7h2v7zm4 0h-2V7h2v10zm4 0h-2v-4h2v4z\"/>\n",
              "    </g>\n",
              "</svg>\n",
              "  </button>\n",
              "\n",
              "<style>\n",
              "  .colab-df-quickchart {\n",
              "      --bg-color: #E8F0FE;\n",
              "      --fill-color: #1967D2;\n",
              "      --hover-bg-color: #E2EBFA;\n",
              "      --hover-fill-color: #174EA6;\n",
              "      --disabled-fill-color: #AAA;\n",
              "      --disabled-bg-color: #DDD;\n",
              "  }\n",
              "\n",
              "  [theme=dark] .colab-df-quickchart {\n",
              "      --bg-color: #3B4455;\n",
              "      --fill-color: #D2E3FC;\n",
              "      --hover-bg-color: #434B5C;\n",
              "      --hover-fill-color: #FFFFFF;\n",
              "      --disabled-bg-color: #3B4455;\n",
              "      --disabled-fill-color: #666;\n",
              "  }\n",
              "\n",
              "  .colab-df-quickchart {\n",
              "    background-color: var(--bg-color);\n",
              "    border: none;\n",
              "    border-radius: 50%;\n",
              "    cursor: pointer;\n",
              "    display: none;\n",
              "    fill: var(--fill-color);\n",
              "    height: 32px;\n",
              "    padding: 0;\n",
              "    width: 32px;\n",
              "  }\n",
              "\n",
              "  .colab-df-quickchart:hover {\n",
              "    background-color: var(--hover-bg-color);\n",
              "    box-shadow: 0 1px 2px rgba(60, 64, 67, 0.3), 0 1px 3px 1px rgba(60, 64, 67, 0.15);\n",
              "    fill: var(--button-hover-fill-color);\n",
              "  }\n",
              "\n",
              "  .colab-df-quickchart-complete:disabled,\n",
              "  .colab-df-quickchart-complete:disabled:hover {\n",
              "    background-color: var(--disabled-bg-color);\n",
              "    fill: var(--disabled-fill-color);\n",
              "    box-shadow: none;\n",
              "  }\n",
              "\n",
              "  .colab-df-spinner {\n",
              "    border: 2px solid var(--fill-color);\n",
              "    border-color: transparent;\n",
              "    border-bottom-color: var(--fill-color);\n",
              "    animation:\n",
              "      spin 1s steps(1) infinite;\n",
              "  }\n",
              "\n",
              "  @keyframes spin {\n",
              "    0% {\n",
              "      border-color: transparent;\n",
              "      border-bottom-color: var(--fill-color);\n",
              "      border-left-color: var(--fill-color);\n",
              "    }\n",
              "    20% {\n",
              "      border-color: transparent;\n",
              "      border-left-color: var(--fill-color);\n",
              "      border-top-color: var(--fill-color);\n",
              "    }\n",
              "    30% {\n",
              "      border-color: transparent;\n",
              "      border-left-color: var(--fill-color);\n",
              "      border-top-color: var(--fill-color);\n",
              "      border-right-color: var(--fill-color);\n",
              "    }\n",
              "    40% {\n",
              "      border-color: transparent;\n",
              "      border-right-color: var(--fill-color);\n",
              "      border-top-color: var(--fill-color);\n",
              "    }\n",
              "    60% {\n",
              "      border-color: transparent;\n",
              "      border-right-color: var(--fill-color);\n",
              "    }\n",
              "    80% {\n",
              "      border-color: transparent;\n",
              "      border-right-color: var(--fill-color);\n",
              "      border-bottom-color: var(--fill-color);\n",
              "    }\n",
              "    90% {\n",
              "      border-color: transparent;\n",
              "      border-bottom-color: var(--fill-color);\n",
              "    }\n",
              "  }\n",
              "</style>\n",
              "\n",
              "  <script>\n",
              "    async function quickchart(key) {\n",
              "      const quickchartButtonEl =\n",
              "        document.querySelector('#' + key + ' button');\n",
              "      quickchartButtonEl.disabled = true;  // To prevent multiple clicks.\n",
              "      quickchartButtonEl.classList.add('colab-df-spinner');\n",
              "      try {\n",
              "        const charts = await google.colab.kernel.invokeFunction(\n",
              "            'suggestCharts', [key], {});\n",
              "      } catch (error) {\n",
              "        console.error('Error during call to suggestCharts:', error);\n",
              "      }\n",
              "      quickchartButtonEl.classList.remove('colab-df-spinner');\n",
              "      quickchartButtonEl.classList.add('colab-df-quickchart-complete');\n",
              "    }\n",
              "    (() => {\n",
              "      let quickchartButtonEl =\n",
              "        document.querySelector('#df-1ce75122-42d2-4ead-a26a-da5cc1f54cfa button');\n",
              "      quickchartButtonEl.style.display =\n",
              "        google.colab.kernel.accessAllowed ? 'block' : 'none';\n",
              "    })();\n",
              "  </script>\n",
              "</div>\n",
              "\n",
              "    </div>\n",
              "  </div>\n"
            ],
            "application/vnd.google.colaboratory.intrinsic+json": {
              "type": "dataframe",
              "summary": "{\n  \"name\": \"df\",\n  \"rows\": 10,\n  \"fields\": [\n    {\n      \"column\": \"credit_score\",\n      \"properties\": {\n        \"dtype\": \"number\",\n        \"std\": 115,\n        \"min\": 517,\n        \"max\": 850,\n        \"num_unique_values\": 10,\n        \"samples\": [\n          712,\n          643,\n          850\n        ],\n        \"semantic_type\": \"\",\n        \"description\": \"\"\n      }\n    },\n    {\n      \"column\": \"age\",\n      \"properties\": {\n        \"dtype\": \"number\",\n        \"std\": 8,\n        \"min\": 33,\n        \"max\": 59,\n        \"num_unique_values\": 8,\n        \"samples\": [\n          33,\n          35,\n          39\n        ],\n        \"semantic_type\": \"\",\n        \"description\": \"\"\n      }\n    },\n    {\n      \"column\": \"tenure\",\n      \"properties\": {\n        \"dtype\": \"number\",\n        \"std\": 2,\n        \"min\": 2,\n        \"max\": 9,\n        \"num_unique_values\": 6,\n        \"samples\": [\n          5,\n          7,\n          3\n        ],\n        \"semantic_type\": \"\",\n        \"description\": \"\"\n      }\n    },\n    {\n      \"column\": \"balance\",\n      \"properties\": {\n        \"dtype\": \"number\",\n        \"std\": 62345.76958270149,\n        \"min\": 0.0,\n        \"max\": 154110.99,\n        \"num_unique_values\": 8,\n        \"samples\": [\n          98630.31,\n          154110.99,\n          119013.86\n        ],\n        \"semantic_type\": \"\",\n        \"description\": \"\"\n      }\n    },\n    {\n      \"column\": \"products_number\",\n      \"properties\": {\n        \"dtype\": \"number\",\n        \"std\": 0,\n        \"min\": 1,\n        \"max\": 2,\n        \"num_unique_values\": 2,\n        \"samples\": [\n          2,\n          1\n        ],\n        \"semantic_type\": \"\",\n        \"description\": \"\"\n      }\n    },\n    {\n      \"column\": \"credit_card\",\n      \"properties\": {\n        \"dtype\": \"number\",\n        \"std\": 0,\n        \"min\": 0,\n        \"max\": 1,\n        \"num_unique_values\": 2,\n        \"samples\": [\n          0,\n          1\n        ],\n        \"semantic_type\": \"\",\n        \"description\": \"\"\n      }\n    },\n    {\n      \"column\": \"active_member\",\n      \"properties\": {\n        \"dtype\": \"number\",\n        \"std\": 0,\n        \"min\": 0,\n        \"max\": 1,\n        \"num_unique_values\": 2,\n        \"samples\": [\n          1,\n          0\n        ],\n        \"semantic_type\": \"\",\n        \"description\": \"\"\n      }\n    },\n    {\n      \"column\": \"estimated_salary\",\n      \"properties\": {\n        \"dtype\": \"number\",\n        \"std\": 43986.95992923489,\n        \"min\": 36193.07,\n        \"max\": 173899.42,\n        \"num_unique_values\": 10,\n        \"samples\": [\n          79176.09,\n          40250.82\n        ],\n        \"semantic_type\": \"\",\n        \"description\": \"\"\n      }\n    },\n    {\n      \"column\": \"churn\",\n      \"properties\": {\n        \"dtype\": \"number\",\n        \"std\": 0,\n        \"min\": 0,\n        \"max\": 1,\n        \"num_unique_values\": 2,\n        \"samples\": [\n          1,\n          0\n        ],\n        \"semantic_type\": \"\",\n        \"description\": \"\"\n      }\n    },\n    {\n      \"column\": \"gender_Male\",\n      \"properties\": {\n        \"dtype\": \"boolean\",\n        \"num_unique_values\": 2,\n        \"samples\": [\n          true,\n          false\n        ],\n        \"semantic_type\": \"\",\n        \"description\": \"\"\n      }\n    },\n    {\n      \"column\": \"country_Germany\",\n      \"properties\": {\n        \"dtype\": \"boolean\",\n        \"num_unique_values\": 2,\n        \"samples\": [\n          true,\n          false\n        ],\n        \"semantic_type\": \"\",\n        \"description\": \"\"\n      }\n    },\n    {\n      \"column\": \"country_Spain\",\n      \"properties\": {\n        \"dtype\": \"boolean\",\n        \"num_unique_values\": 1,\n        \"samples\": [\n          false\n        ],\n        \"semantic_type\": \"\",\n        \"description\": \"\"\n      }\n    }\n  ]\n}"
            }
          },
          "metadata": {},
          "execution_count": 129
        }
      ],
      "source": [
        "df.sample(10)"
      ]
    },
    {
      "cell_type": "code",
      "execution_count": 130,
      "metadata": {
        "execution": {
          "iopub.execute_input": "2020-11-14T09:44:28.785132Z",
          "iopub.status.busy": "2020-11-14T09:44:28.784246Z",
          "iopub.status.idle": "2020-11-14T09:44:28.787552Z",
          "shell.execute_reply": "2020-11-14T09:44:28.786786Z"
        },
        "papermill": {
          "duration": 0.122415,
          "end_time": "2020-11-14T09:44:28.787675",
          "exception": false,
          "start_time": "2020-11-14T09:44:28.665260",
          "status": "completed"
        },
        "tags": [],
        "id": "s0TxmNyR1bxd"
      },
      "outputs": [],
      "source": [
        "scaler = RobustScaler()\n",
        "scaled_data = scaler.fit_transform(df)"
      ]
    },
    {
      "cell_type": "markdown",
      "metadata": {
        "papermill": {
          "duration": 0.108284,
          "end_time": "2020-11-14T09:44:29.525739",
          "exception": false,
          "start_time": "2020-11-14T09:44:29.417455",
          "status": "completed"
        },
        "tags": [],
        "id": "sevq6A551bxd"
      },
      "source": [
        "# Modeling"
      ]
    },
    {
      "cell_type": "code",
      "execution_count": 131,
      "metadata": {
        "execution": {
          "iopub.execute_input": "2020-11-14T09:44:29.759407Z",
          "iopub.status.busy": "2020-11-14T09:44:29.758236Z",
          "iopub.status.idle": "2020-11-14T09:45:39.496712Z",
          "shell.execute_reply": "2020-11-14T09:45:39.497961Z"
        },
        "papermill": {
          "duration": 69.863355,
          "end_time": "2020-11-14T09:45:39.498194",
          "exception": false,
          "start_time": "2020-11-14T09:44:29.634839",
          "status": "completed"
        },
        "tags": [],
        "id": "kfkLjnwh1bxe"
      },
      "outputs": [],
      "source": [
        "X = df.drop(\"churn\",axis=1)\n",
        "y = df[\"churn\"]\n",
        "X_train, X_test, y_train, y_test = train_test_split(X, y, test_size=0.20, random_state=42)\n"
      ]
    },
    {
      "cell_type": "code",
      "execution_count": 132,
      "metadata": {
        "colab": {
          "base_uri": "https://localhost:8080/"
        },
        "id": "5QuXNTy91bxe",
        "outputId": "d87f2183-b463-4dcf-ffdb-663e9de2a093"
      },
      "outputs": [
        {
          "output_type": "stream",
          "name": "stderr",
          "text": [
            "/usr/local/lib/python3.11/dist-packages/sklearn/linear_model/_logistic.py:465: ConvergenceWarning: lbfgs failed to converge (status=1):\n",
            "STOP: TOTAL NO. of ITERATIONS REACHED LIMIT.\n",
            "\n",
            "Increase the number of iterations (max_iter) or scale the data as shown in:\n",
            "    https://scikit-learn.org/stable/modules/preprocessing.html\n",
            "Please also refer to the documentation for alternative solver options:\n",
            "    https://scikit-learn.org/stable/modules/linear_model.html#logistic-regression\n",
            "  n_iter_i = _check_optimize_result(\n",
            "/usr/local/lib/python3.11/dist-packages/sklearn/linear_model/_logistic.py:465: ConvergenceWarning: lbfgs failed to converge (status=1):\n",
            "STOP: TOTAL NO. of ITERATIONS REACHED LIMIT.\n",
            "\n",
            "Increase the number of iterations (max_iter) or scale the data as shown in:\n",
            "    https://scikit-learn.org/stable/modules/preprocessing.html\n",
            "Please also refer to the documentation for alternative solver options:\n",
            "    https://scikit-learn.org/stable/modules/linear_model.html#logistic-regression\n",
            "  n_iter_i = _check_optimize_result(\n",
            "/usr/local/lib/python3.11/dist-packages/sklearn/linear_model/_logistic.py:465: ConvergenceWarning: lbfgs failed to converge (status=1):\n",
            "STOP: TOTAL NO. of ITERATIONS REACHED LIMIT.\n",
            "\n",
            "Increase the number of iterations (max_iter) or scale the data as shown in:\n",
            "    https://scikit-learn.org/stable/modules/preprocessing.html\n",
            "Please also refer to the documentation for alternative solver options:\n",
            "    https://scikit-learn.org/stable/modules/linear_model.html#logistic-regression\n",
            "  n_iter_i = _check_optimize_result(\n",
            "/usr/local/lib/python3.11/dist-packages/sklearn/linear_model/_logistic.py:465: ConvergenceWarning: lbfgs failed to converge (status=1):\n",
            "STOP: TOTAL NO. of ITERATIONS REACHED LIMIT.\n",
            "\n",
            "Increase the number of iterations (max_iter) or scale the data as shown in:\n",
            "    https://scikit-learn.org/stable/modules/preprocessing.html\n",
            "Please also refer to the documentation for alternative solver options:\n",
            "    https://scikit-learn.org/stable/modules/linear_model.html#logistic-regression\n",
            "  n_iter_i = _check_optimize_result(\n",
            "/usr/local/lib/python3.11/dist-packages/sklearn/linear_model/_logistic.py:465: ConvergenceWarning: lbfgs failed to converge (status=1):\n",
            "STOP: TOTAL NO. of ITERATIONS REACHED LIMIT.\n",
            "\n",
            "Increase the number of iterations (max_iter) or scale the data as shown in:\n",
            "    https://scikit-learn.org/stable/modules/preprocessing.html\n",
            "Please also refer to the documentation for alternative solver options:\n",
            "    https://scikit-learn.org/stable/modules/linear_model.html#logistic-regression\n",
            "  n_iter_i = _check_optimize_result(\n",
            "/usr/local/lib/python3.11/dist-packages/sklearn/linear_model/_logistic.py:465: ConvergenceWarning: lbfgs failed to converge (status=1):\n",
            "STOP: TOTAL NO. of ITERATIONS REACHED LIMIT.\n",
            "\n",
            "Increase the number of iterations (max_iter) or scale the data as shown in:\n",
            "    https://scikit-learn.org/stable/modules/preprocessing.html\n",
            "Please also refer to the documentation for alternative solver options:\n",
            "    https://scikit-learn.org/stable/modules/linear_model.html#logistic-regression\n",
            "  n_iter_i = _check_optimize_result(\n",
            "/usr/local/lib/python3.11/dist-packages/sklearn/linear_model/_logistic.py:465: ConvergenceWarning: lbfgs failed to converge (status=1):\n",
            "STOP: TOTAL NO. of ITERATIONS REACHED LIMIT.\n",
            "\n",
            "Increase the number of iterations (max_iter) or scale the data as shown in:\n",
            "    https://scikit-learn.org/stable/modules/preprocessing.html\n",
            "Please also refer to the documentation for alternative solver options:\n",
            "    https://scikit-learn.org/stable/modules/linear_model.html#logistic-regression\n",
            "  n_iter_i = _check_optimize_result(\n",
            "/usr/local/lib/python3.11/dist-packages/sklearn/linear_model/_logistic.py:465: ConvergenceWarning: lbfgs failed to converge (status=1):\n",
            "STOP: TOTAL NO. of ITERATIONS REACHED LIMIT.\n",
            "\n",
            "Increase the number of iterations (max_iter) or scale the data as shown in:\n",
            "    https://scikit-learn.org/stable/modules/preprocessing.html\n",
            "Please also refer to the documentation for alternative solver options:\n",
            "    https://scikit-learn.org/stable/modules/linear_model.html#logistic-regression\n",
            "  n_iter_i = _check_optimize_result(\n",
            "/usr/local/lib/python3.11/dist-packages/sklearn/linear_model/_logistic.py:465: ConvergenceWarning: lbfgs failed to converge (status=1):\n",
            "STOP: TOTAL NO. of ITERATIONS REACHED LIMIT.\n",
            "\n",
            "Increase the number of iterations (max_iter) or scale the data as shown in:\n",
            "    https://scikit-learn.org/stable/modules/preprocessing.html\n",
            "Please also refer to the documentation for alternative solver options:\n",
            "    https://scikit-learn.org/stable/modules/linear_model.html#logistic-regression\n",
            "  n_iter_i = _check_optimize_result(\n",
            "/usr/local/lib/python3.11/dist-packages/sklearn/linear_model/_logistic.py:465: ConvergenceWarning: lbfgs failed to converge (status=1):\n",
            "STOP: TOTAL NO. of ITERATIONS REACHED LIMIT.\n",
            "\n",
            "Increase the number of iterations (max_iter) or scale the data as shown in:\n",
            "    https://scikit-learn.org/stable/modules/preprocessing.html\n",
            "Please also refer to the documentation for alternative solver options:\n",
            "    https://scikit-learn.org/stable/modules/linear_model.html#logistic-regression\n",
            "  n_iter_i = _check_optimize_result(\n"
          ]
        },
        {
          "output_type": "stream",
          "name": "stdout",
          "text": [
            "LR: 0.791400 \n",
            "KNN: 0.765000 \n",
            "DT: 0.790100 \n",
            "RF: 0.861300 \n",
            "SVR: 0.796300 \n",
            "GB: 0.864500 \n",
            "[LightGBM] [Info] Number of positive: 1833, number of negative: 7167\n",
            "[LightGBM] [Info] Auto-choosing row-wise multi-threading, the overhead of testing was 0.001350 seconds.\n",
            "You can set `force_row_wise=true` to remove the overhead.\n",
            "And if memory is not enough, you can set `force_col_wise=true`.\n",
            "[LightGBM] [Info] Total Bins 856\n",
            "[LightGBM] [Info] Number of data points in the train set: 9000, number of used features: 11\n",
            "[LightGBM] [Info] [binary:BoostFromScore]: pavg=0.203667 -> initscore=-1.363533\n",
            "[LightGBM] [Info] Start training from score -1.363533\n",
            "[LightGBM] [Info] Number of positive: 1825, number of negative: 7175\n",
            "[LightGBM] [Info] Auto-choosing col-wise multi-threading, the overhead of testing was 0.001825 seconds.\n",
            "You can set `force_col_wise=true` to remove the overhead.\n",
            "[LightGBM] [Info] Total Bins 857\n",
            "[LightGBM] [Info] Number of data points in the train set: 9000, number of used features: 11\n",
            "[LightGBM] [Info] [binary:BoostFromScore]: pavg=0.202778 -> initscore=-1.369023\n",
            "[LightGBM] [Info] Start training from score -1.369023\n",
            "[LightGBM] [Info] Number of positive: 1821, number of negative: 7179\n",
            "[LightGBM] [Info] Auto-choosing col-wise multi-threading, the overhead of testing was 0.001699 seconds.\n",
            "You can set `force_col_wise=true` to remove the overhead.\n",
            "[LightGBM] [Info] Total Bins 857\n",
            "[LightGBM] [Info] Number of data points in the train set: 9000, number of used features: 11\n",
            "[LightGBM] [Info] [binary:BoostFromScore]: pavg=0.202333 -> initscore=-1.371774\n",
            "[LightGBM] [Info] Start training from score -1.371774\n",
            "[LightGBM] [Info] Number of positive: 1823, number of negative: 7177\n",
            "[LightGBM] [Info] Auto-choosing col-wise multi-threading, the overhead of testing was 0.001641 seconds.\n",
            "You can set `force_col_wise=true` to remove the overhead.\n",
            "[LightGBM] [Info] Total Bins 856\n",
            "[LightGBM] [Info] Number of data points in the train set: 9000, number of used features: 11\n",
            "[LightGBM] [Info] [binary:BoostFromScore]: pavg=0.202556 -> initscore=-1.370398\n",
            "[LightGBM] [Info] Start training from score -1.370398\n",
            "[LightGBM] [Info] Number of positive: 1837, number of negative: 7163\n",
            "[LightGBM] [Info] Auto-choosing col-wise multi-threading, the overhead of testing was 0.001735 seconds.\n",
            "You can set `force_col_wise=true` to remove the overhead.\n",
            "[LightGBM] [Info] Total Bins 857\n",
            "[LightGBM] [Info] Number of data points in the train set: 9000, number of used features: 11\n",
            "[LightGBM] [Info] [binary:BoostFromScore]: pavg=0.204111 -> initscore=-1.360795\n",
            "[LightGBM] [Info] Start training from score -1.360795\n",
            "[LightGBM] [Info] Number of positive: 1834, number of negative: 7166\n",
            "[LightGBM] [Info] Auto-choosing col-wise multi-threading, the overhead of testing was 0.001598 seconds.\n",
            "You can set `force_col_wise=true` to remove the overhead.\n",
            "[LightGBM] [Info] Total Bins 857\n",
            "[LightGBM] [Info] Number of data points in the train set: 9000, number of used features: 11\n",
            "[LightGBM] [Info] [binary:BoostFromScore]: pavg=0.203778 -> initscore=-1.362848\n",
            "[LightGBM] [Info] Start training from score -1.362848\n",
            "[LightGBM] [Info] Number of positive: 1843, number of negative: 7157\n",
            "[LightGBM] [Info] Auto-choosing col-wise multi-threading, the overhead of testing was 0.001703 seconds.\n",
            "You can set `force_col_wise=true` to remove the overhead.\n",
            "[LightGBM] [Info] Total Bins 857\n",
            "[LightGBM] [Info] Number of data points in the train set: 9000, number of used features: 11\n",
            "[LightGBM] [Info] [binary:BoostFromScore]: pavg=0.204778 -> initscore=-1.356696\n",
            "[LightGBM] [Info] Start training from score -1.356696\n",
            "[LightGBM] [Info] Number of positive: 1833, number of negative: 7167\n",
            "[LightGBM] [Info] Auto-choosing row-wise multi-threading, the overhead of testing was 0.000471 seconds.\n",
            "You can set `force_row_wise=true` to remove the overhead.\n",
            "And if memory is not enough, you can set `force_col_wise=true`.\n",
            "[LightGBM] [Info] Total Bins 857\n",
            "[LightGBM] [Info] Number of data points in the train set: 9000, number of used features: 11\n",
            "[LightGBM] [Info] [binary:BoostFromScore]: pavg=0.203667 -> initscore=-1.363533\n",
            "[LightGBM] [Info] Start training from score -1.363533\n",
            "[LightGBM] [Info] Number of positive: 1826, number of negative: 7174\n",
            "[LightGBM] [Info] Auto-choosing col-wise multi-threading, the overhead of testing was 0.001765 seconds.\n",
            "You can set `force_col_wise=true` to remove the overhead.\n",
            "[LightGBM] [Info] Total Bins 857\n",
            "[LightGBM] [Info] Number of data points in the train set: 9000, number of used features: 11\n",
            "[LightGBM] [Info] [binary:BoostFromScore]: pavg=0.202889 -> initscore=-1.368336\n",
            "[LightGBM] [Info] Start training from score -1.368336\n",
            "[LightGBM] [Info] Number of positive: 1858, number of negative: 7142\n",
            "[LightGBM] [Info] Auto-choosing col-wise multi-threading, the overhead of testing was 0.001639 seconds.\n",
            "You can set `force_col_wise=true` to remove the overhead.\n",
            "[LightGBM] [Info] Total Bins 855\n",
            "[LightGBM] [Info] Number of data points in the train set: 9000, number of used features: 11\n",
            "[LightGBM] [Info] [binary:BoostFromScore]: pavg=0.206444 -> initscore=-1.346492\n",
            "[LightGBM] [Info] Start training from score -1.346492\n",
            "LightGBM: 0.862100 \n"
          ]
        }
      ],
      "source": [
        "models = [('LR', LogisticRegression(random_state=42)),\n",
        "          ('KNN', KNeighborsClassifier()),\n",
        "          ('DT', DecisionTreeClassifier(random_state=42)),\n",
        "          ('RF', RandomForestClassifier(random_state=42)),\n",
        "          ('SVR', SVC(gamma='auto',random_state=42)),\n",
        "          ('GB', GradientBoostingClassifier(random_state = 42)),\n",
        "          (\"LightGBM\", LGBMClassifier(random_state=42))]\n",
        "results = []\n",
        "names = []\n",
        "for name, model in models:\n",
        "    kfold = KFold(n_splits=10)\n",
        "    cv_results = cross_val_score(model, X, y, cv=kfold)\n",
        "    results.append(cv_results)\n",
        "    names.append(name)\n",
        "    output = \"%s: %f \" % (name, cv_results.mean())\n",
        "    print(output)"
      ]
    },
    {
      "cell_type": "code",
      "execution_count": 133,
      "metadata": {
        "id": "qB-HivHf1bxe"
      },
      "outputs": [],
      "source": [
        "def classifier_results(y_test, pred=None, pred_proba=None):\n",
        "    confusion = confusion_matrix(y_test, pred)\n",
        "    accuracy = accuracy_score(y_test, pred)\n",
        "    precision = precision_score(y_test, pred,zero_division=0)\n",
        "    recall = recall_score(y_test, pred)\n",
        "    f1 = f1_score(y_test, pred)\n",
        "    roc_auc = roc_auc_score(y_test, pred_proba)\n",
        "    print(\"Accuracy: {:.4f} Precision: {:.4f} Recall: {:.4f} F1: {:.4f} ROC-AUC: {:.4f}\".format(accuracy,precision,recall,f1,roc_auc))\n",
        "    plt.figure(figsize=(8, 6))\n",
        "    ax = sns.heatmap(confusion, cmap = 'YlGnBu',annot = True, fmt='d')\n",
        "    ax.set_title('Confusion Matrix')\n",
        "\n",
        "    return confusion"
      ]
    },
    {
      "cell_type": "code",
      "execution_count": 134,
      "metadata": {
        "execution": {
          "iopub.execute_input": "2020-11-14T09:45:42.131035Z",
          "iopub.status.busy": "2020-11-14T09:45:42.130271Z",
          "iopub.status.idle": "2020-11-14T09:45:42.132878Z",
          "shell.execute_reply": "2020-11-14T09:45:42.133463Z"
        },
        "papermill": {
          "duration": 0.150827,
          "end_time": "2020-11-14T09:45:42.133612",
          "exception": false,
          "start_time": "2020-11-14T09:45:41.982785",
          "status": "completed"
        },
        "tags": [],
        "id": "Zgnzky8R1bxe"
      },
      "outputs": [],
      "source": [
        "def generate_auc_roc_curve(y_test,  y_pred_proba):\n",
        "    fpr, tpr, thresholds = roc_curve(y_test,  y_pred_proba)\n",
        "    auc = roc_auc_score(y_test, y_pred_proba)\n",
        "    plt.plot(fpr,tpr,label=\"AUC ROC Curve with Area Under the curve =\"+str(auc))\n",
        "    plt.legend(loc=4)\n",
        "    plt.show()\n",
        "    pass"
      ]
    },
    {
      "cell_type": "code",
      "execution_count": 135,
      "metadata": {
        "execution": {
          "iopub.execute_input": "2020-11-14T09:45:39.768459Z",
          "iopub.status.busy": "2020-11-14T09:45:39.765271Z",
          "iopub.status.idle": "2020-11-14T09:45:41.290509Z",
          "shell.execute_reply": "2020-11-14T09:45:41.291072Z"
        },
        "papermill": {
          "duration": 1.652364,
          "end_time": "2020-11-14T09:45:41.291270",
          "exception": false,
          "start_time": "2020-11-14T09:45:39.638906",
          "status": "completed"
        },
        "scrolled": true,
        "tags": [],
        "colab": {
          "base_uri": "https://localhost:8080/",
          "height": 597
        },
        "id": "mjQMnDay1bxe",
        "outputId": "4e251337-84fc-41f8-ccff-41c4204a035c"
      },
      "outputs": [
        {
          "output_type": "stream",
          "name": "stdout",
          "text": [
            "Accuracy: 0.8675 Precision: 0.7500 Recall: 0.4885 F1: 0.5917 ROC-AUC: 0.8729\n"
          ]
        },
        {
          "output_type": "execute_result",
          "data": {
            "text/plain": [
              "array([[1543,   64],\n",
              "       [ 201,  192]])"
            ]
          },
          "metadata": {},
          "execution_count": 135
        },
        {
          "output_type": "display_data",
          "data": {
            "text/plain": [
              "<Figure size 800x600 with 2 Axes>"
            ],
            "image/png": "[encoded data removed]"
          },
          "metadata": {}
        }
      ],
      "source": [
        "model = GradientBoostingClassifier(random_state=42)\n",
        "model.fit(X_train, y_train)\n",
        "y_pred = model.predict(X_test)\n",
        "y_pred_proba = model.predict_proba(X_test)[:, 1]\n",
        "classifier_results(y_test, pred=y_pred, pred_proba=y_pred_proba)\n"
      ]
    },
    {
      "cell_type": "code",
      "execution_count": 136,
      "metadata": {
        "execution": {
          "iopub.execute_input": "2020-11-14T09:45:42.370446Z",
          "iopub.status.busy": "2020-11-14T09:45:42.369680Z",
          "iopub.status.idle": "2020-11-14T09:45:42.563253Z",
          "shell.execute_reply": "2020-11-14T09:45:42.562503Z"
        },
        "papermill": {
          "duration": 0.316733,
          "end_time": "2020-11-14T09:45:42.563385",
          "exception": false,
          "start_time": "2020-11-14T09:45:42.246652",
          "status": "completed"
        },
        "tags": [],
        "colab": {
          "base_uri": "https://localhost:8080/",
          "height": 430
        },
        "id": "A9PvBg3w1bxf",
        "outputId": "b80b7156-7e90-4056-ca21-767fe4734683"
      },
      "outputs": [
        {
          "output_type": "display_data",
          "data": {
            "text/plain": [
              "<Figure size 640x480 with 1 Axes>"
            ],
            "image/png": "[encoded data removed]"
          },
          "metadata": {}
        }
      ],
      "source": [
        "generate_auc_roc_curve(y_test,  y_pred_proba)"
      ]
    },
    {
      "cell_type": "markdown",
      "metadata": {
        "id": "nWrMReaN1bxg"
      },
      "source": [
        "The Best model is LGBMClassifier model with a learning rate of 0.05, max depth of 5, and 100 estimators achieved an accuracy of 0.8670. It showed a precision of 0.7571, recall of 0.4758, and an F1 score of 0.5844. The model's ROC-AUC score was 0.8741, indicating good performance in distinguishing between positive and negative cases. Overall, the model demonstrated promising results, although further improvements can be made. Trialing wiht ensembles may result in better results"
      ]
    }
  ],
  "metadata": {
    "kernelspec": {
      "display_name": "Python 3 (ipykernel)",
      "language": "python",
      "name": "python3"
    },
    "language_info": {
      "codemirror_mode": {
        "name": "ipython",
        "version": 3
      },
      "file_extension": ".py",
      "mimetype": "text/x-python",
      "name": "python",
      "nbconvert_exporter": "python",
      "pygments_lexer": "ipython3",
      "version": "3.9.13"
    },
    "papermill": {
      "duration": 148.680871,
      "end_time": "2020-11-14T09:46:32.835020",
      "environment_variables": {},
      "exception": null,
      "input_path": "__notebook__.ipynb",
      "output_path": "__notebook__.ipynb",
      "parameters": {},
      "start_time": "2020-11-14T09:44:04.154149",
      "version": "2.1.0"
    },
    "colab": {
      "provenance": []
    }
  },
  "nbformat": 4,
  "nbformat_minor": 0
}